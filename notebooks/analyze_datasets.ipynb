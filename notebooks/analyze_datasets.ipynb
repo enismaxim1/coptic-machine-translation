{
 "cells": [
  {
   "cell_type": "code",
   "execution_count": 1,
   "metadata": {},
   "outputs": [
    {
     "name": "stdout",
     "output_type": "stream",
     "text": [
      "/mnt/storage/maxenis/coptic-machine-translation\n"
     ]
    }
   ],
   "source": [
    "%cd /mnt/storage/maxenis/coptic-machine-translation"
   ]
  },
  {
   "cell_type": "code",
   "execution_count": 2,
   "metadata": {},
   "outputs": [],
   "source": [
    "import datasets\n"
   ]
  },
  {
   "cell_type": "code",
   "execution_count": 3,
   "metadata": {},
   "outputs": [],
   "source": [
    "old_data = datasets.load_from_disk(\"datasets/cop-en-romanized\")\n",
    "new_data = datasets.load_from_disk(\"datasets/second-cop-en-romanized-norm\")"
   ]
  },
  {
   "cell_type": "code",
   "execution_count": 4,
   "metadata": {},
   "outputs": [
    {
     "data": {
      "text/plain": [
       "DatasetDict({\n",
       "    train: Dataset({\n",
       "        features: ['eng', 'norm_group', 'norm', 'func', 'pos', 'arabic', 'meta::translation', 'meta::title', 'norm_romanized', 'translation'],\n",
       "        num_rows: 30655\n",
       "    })\n",
       "    test: Dataset({\n",
       "        features: ['eng', 'norm_group', 'norm', 'func', 'pos', 'arabic', 'meta::translation', 'meta::title', 'norm_romanized', 'translation'],\n",
       "        num_rows: 500\n",
       "    })\n",
       "    validation: Dataset({\n",
       "        features: ['eng', 'norm_group', 'norm', 'func', 'pos', 'arabic', 'meta::translation', 'meta::title', 'norm_romanized', 'translation'],\n",
       "        num_rows: 128\n",
       "    })\n",
       "})"
      ]
     },
     "execution_count": 4,
     "metadata": {},
     "output_type": "execute_result"
    }
   ],
   "source": [
    "old_data"
   ]
  },
  {
   "cell_type": "code",
   "execution_count": null,
   "metadata": {},
   "outputs": [
    {
     "data": {
      "text/plain": [
       "DatasetDict({\n",
       "    train: Dataset({\n",
       "        features: ['translation', 'norm_group', 'norm', 'func', 'pos', 'arabic', 'meta::translation', 'meta::title', 'norm_romanized', 'norm_group_romanized'],\n",
       "        num_rows: 31951\n",
       "    })\n",
       "    test: Dataset({\n",
       "        features: ['translation', 'norm_group', 'norm', 'func', 'pos', 'arabic', 'meta::translation', 'meta::title', 'norm_romanized', 'norm_group_romanized'],\n",
       "        num_rows: 500\n",
       "    })\n",
       "    validation: Dataset({\n",
       "        features: ['translation', 'norm_group', 'norm', 'func', 'pos', 'arabic', 'meta::translation', 'meta::title', 'norm_romanized', 'norm_group_romanized'],\n",
       "        num_rows: 128\n",
       "    })\n",
       "})"
      ]
     },
     "execution_count": 5,
     "metadata": {},
     "output_type": "execute_result"
    }
   ],
   "source": [
    "new_data"
   ]
  },
  {
   "cell_type": "code",
   "execution_count": null,
   "metadata": {},
   "outputs": [
    {
     "data": {
      "application/vnd.jupyter.widget-view+json": {
       "model_id": "4bbd5092420d489d9c6866b5d9f95022",
       "version_major": 2,
       "version_minor": 0
      },
      "text/plain": [
       "Filter:   0%|          | 0/30655 [00:00<?, ? examples/s]"
      ]
     },
     "metadata": {},
     "output_type": "display_data"
    },
    {
     "data": {
      "application/vnd.jupyter.widget-view+json": {
       "model_id": "e52f08c2a32540f0aee0741b34e0c07a",
       "version_major": 2,
       "version_minor": 0
      },
      "text/plain": [
       "Filter:   0%|          | 0/500 [00:00<?, ? examples/s]"
      ]
     },
     "metadata": {},
     "output_type": "display_data"
    },
    {
     "data": {
      "application/vnd.jupyter.widget-view+json": {
       "model_id": "a1dd4cfed19f434b92f742a5b06c7f07",
       "version_major": 2,
       "version_minor": 0
      },
      "text/plain": [
       "Filter:   0%|          | 0/128 [00:00<?, ? examples/s]"
      ]
     },
     "metadata": {},
     "output_type": "display_data"
    },
    {
     "data": {
      "text/plain": [
       "DatasetDict({\n",
       "    train: Dataset({\n",
       "        features: ['eng', 'norm_group', 'norm', 'func', 'pos', 'arabic', 'meta::translation', 'meta::title', 'norm_romanized', 'translation'],\n",
       "        num_rows: 21610\n",
       "    })\n",
       "    test: Dataset({\n",
       "        features: ['eng', 'norm_group', 'norm', 'func', 'pos', 'arabic', 'meta::translation', 'meta::title', 'norm_romanized', 'translation'],\n",
       "        num_rows: 343\n",
       "    })\n",
       "    validation: Dataset({\n",
       "        features: ['eng', 'norm_group', 'norm', 'func', 'pos', 'arabic', 'meta::translation', 'meta::title', 'norm_romanized', 'translation'],\n",
       "        num_rows: 100\n",
       "    })\n",
       "})"
      ]
     },
     "execution_count": 6,
     "metadata": {},
     "output_type": "execute_result"
    }
   ],
   "source": [
    "def startswith_num(s):\n",
    "    return (s[0].isdigit() or s[1].isdigit()) and s[0] in [\"1\", \"2\", \"3\"]\n",
    "\n",
    "# titles that start with number come from the old testament\n",
    "old_data.filter(lambda x: startswith_num(x[\"meta::title\"]))\n"
   ]
  },
  {
   "cell_type": "code",
   "execution_count": null,
   "metadata": {},
   "outputs": [],
   "source": [
    "new_data.filter(lambda x: startswith_num(x[\"meta::title\"]))"
   ]
  },
  {
   "cell_type": "code",
   "execution_count": null,
   "metadata": {},
   "outputs": [],
   "source": []
  },
  {
   "cell_type": "code",
   "execution_count": null,
   "metadata": {},
   "outputs": [],
   "source": []
  }
 ],
 "metadata": {
  "kernelspec": {
   "display_name": "coptic",
   "language": "python",
   "name": "python3"
  },
  "language_info": {
   "codemirror_mode": {
    "name": "ipython",
    "version": 3
   },
   "file_extension": ".py",
   "mimetype": "text/x-python",
   "name": "python",
   "nbconvert_exporter": "python",
   "pygments_lexer": "ipython3",
   "version": "3.11.0"
  },
  "orig_nbformat": 4
 },
 "nbformat": 4,
 "nbformat_minor": 2
}
