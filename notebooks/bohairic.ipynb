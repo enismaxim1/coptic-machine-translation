{
 "cells": [
  {
   "cell_type": "code",
   "execution_count": 12,
   "metadata": {},
   "outputs": [],
   "source": [
    "import pandas as pd\n",
    "import datasets\n",
    "import huggingface_model\n",
    "from config_consts import *"
   ]
  },
  {
   "cell_type": "code",
   "execution_count": 3,
   "metadata": {},
   "outputs": [],
   "source": [
    "df = pd.DataFrame({'norm_group': [], 'translation': []})"
   ]
  },
  {
   "cell_type": "code",
   "execution_count": 4,
   "metadata": {},
   "outputs": [],
   "source": [
    "# Add row to df\n",
    "df.loc[0] = [\"ϯⲛⲁϣⲗⲏⲗ ϧⲉⲛ ϯⲉⲕⲕⲗⲏⲥⲓⲁ ⲛⲣⲁⲥϯ\", \"I’ll pray in the church tomorrow\"]"
   ]
  },
  {
   "cell_type": "code",
   "execution_count": 6,
   "metadata": {},
   "outputs": [],
   "source": [
    "df.loc[1] = [\"ϥⲛⲁⲓ ⲛⲉⲙ ⲡⲉϥⲓⲱⲧ ⲉ ⲡⲉⲛⲏⲓ\", \"he will come with his father to our house\"]"
   ]
  },
  {
   "cell_type": "code",
   "execution_count": 7,
   "metadata": {},
   "outputs": [],
   "source": [
    "df.loc[2] = [\"ⲧⲉⲛⲛⲁⲥⲱⲧⲉⲙ ⲉ ϯⲁⲛⲁⲫⲟⲣⲁ ⲛⲧⲉ ⲡⲉⲛⲓⲱⲧ ⲙⲟⲣⲕⲟⲥ\", \"we shall listen to the mass of our father Morkos\"]"
   ]
  },
  {
   "cell_type": "code",
   "execution_count": 8,
   "metadata": {},
   "outputs": [],
   "source": [
    "df.loc[3] = [\"ⲛⲓⲁⲗⲱⲟⲩⲓ ⲥⲉⲛⲁⲁⲣⲉϩ ⲉ ⲛⲟⲩⲱϣ\", \"the children will study their lessons\"]"
   ]
  },
  {
   "cell_type": "code",
   "execution_count": 9,
   "metadata": {},
   "outputs": [],
   "source": [
    "df.loc[4] = [\"ϯⲛⲁϭⲓ ⲛϩⲁⲛⲗⲟⲩⲕⲟⲩϫⲓ ⲉⲃⲟⲗ ϧⲉⲛ ⲡⲁⲥⲟⲛ\", \"I’ll take some money from my brother\"]"
   ]
  },
  {
   "cell_type": "code",
   "execution_count": 10,
   "metadata": {},
   "outputs": [],
   "source": [
    "df.loc[5] = [\"ϯⲛⲁⲓ ⲁⲛ ⲛⲣⲁⲥϯ ⲁⲗⲗⲁ ⲧⲛⲁⲓ ⲛⲥⲁⲣⲁⲥϯ\", \"I shall not come tomorrow, but I shall come the day after tomorrow\"]"
   ]
  },
  {
   "cell_type": "code",
   "execution_count": 11,
   "metadata": {},
   "outputs": [],
   "source": [
    "df.loc[6] = [\"ϯⲛⲁⲙⲟⲩⲕϩ ⲁⲙⲁϣⲱ ⲓⲥϫⲉ ⲕⲥⲱⲧⲉⲙ ⲁⲛ\", \"I’ll be very upset if you don't listen\"]"
   ]
  },
  {
   "cell_type": "code",
   "execution_count": 12,
   "metadata": {},
   "outputs": [],
   "source": [
    "df.loc[7] = [\"ⲧⲉⲛⲛⲁϣⲱⲡ ⲛϩⲁⲛϩⲣⲏⲣⲓ ⲉⲑⲃⲉ ⲧⲉⲛⲙⲁⲩ\", \"we shall buy some flowers for our mother\"]"
   ]
  },
  {
   "cell_type": "code",
   "execution_count": 13,
   "metadata": {},
   "outputs": [],
   "source": [
    "df.loc[8] = [\"ⲧⲉⲛⲁⲭⲱ ⲛⲟⲩϩⲙⲟⲩ ⲉϫⲉⲛ ϯϧⲣⲉ\", \"will you put salt on the food?\"]"
   ]
  },
  {
   "cell_type": "code",
   "execution_count": 14,
   "metadata": {},
   "outputs": [],
   "source": [
    "df.loc[9] = [\"ⲕⲟⲩⲱϣ ⲉⲟⲩⲱⲙ ϯⲛⲟⲩ\", \"do you want to eat now?\"]"
   ]
  },
  {
   "cell_type": "code",
   "execution_count": 15,
   "metadata": {},
   "outputs": [],
   "source": [
    "df.loc[10] = [\"ϯⲥⲱⲟⲩⲛ ⲁⲛ ⲓⲥϫⲉ ϥⲛⲁⲓ ⲓⲉ ⲙⲙⲟⲛ\", \"I do not know whether he will come or not\"]"
   ]
  },
  {
   "cell_type": "code",
   "execution_count": 17,
   "metadata": {},
   "outputs": [],
   "source": [
    "df.to_csv('../datasets/bohairic.csv', index=False)"
   ]
  },
  {
   "cell_type": "code",
   "execution_count": 5,
   "metadata": {},
   "outputs": [
    {
     "data": {
      "application/vnd.jupyter.widget-view+json": {
       "model_id": "af5e30adc9f94657b915a397204f49d9",
       "version_major": 2,
       "version_minor": 0
      },
      "text/plain": [
       "Downloading data files:   0%|          | 0/1 [00:00<?, ?it/s]"
      ]
     },
     "metadata": {},
     "output_type": "display_data"
    },
    {
     "data": {
      "application/vnd.jupyter.widget-view+json": {
       "model_id": "e7ba27ecd4874a75b680c420a688fab7",
       "version_major": 2,
       "version_minor": 0
      },
      "text/plain": [
       "Extracting data files:   0%|          | 0/1 [00:00<?, ?it/s]"
      ]
     },
     "metadata": {},
     "output_type": "display_data"
    },
    {
     "data": {
      "application/vnd.jupyter.widget-view+json": {
       "model_id": "fe0d37c245334bfe82c69d7bb343bc2c",
       "version_major": 2,
       "version_minor": 0
      },
      "text/plain": [
       "Generating train split: 0 examples [00:00, ? examples/s]"
      ]
     },
     "metadata": {},
     "output_type": "display_data"
    }
   ],
   "source": [
    "data = datasets.load_dataset('csv', data_files='../datasets/bohairic-romanized.csv')"
   ]
  },
  {
   "cell_type": "code",
   "execution_count": 6,
   "metadata": {},
   "outputs": [
    {
     "data": {
      "application/vnd.jupyter.widget-view+json": {
       "model_id": "0c083cbd0d624a8bb78335e56c9e7e23",
       "version_major": 2,
       "version_minor": 0
      },
      "text/plain": [
       "Map:   0%|          | 0/11 [00:00<?, ? examples/s]"
      ]
     },
     "metadata": {},
     "output_type": "display_data"
    }
   ],
   "source": [
    "data = data.map(lambda x: {'translation': {\"cop\": x['norm_group'], \"eng\": x['translation']}})"
   ]
  },
  {
   "cell_type": "code",
   "execution_count": 7,
   "metadata": {},
   "outputs": [
    {
     "data": {
      "text/plain": [
       "DatasetDict({\n",
       "    train: Dataset({\n",
       "        features: ['norm_group', 'translation'],\n",
       "        num_rows: 11\n",
       "    })\n",
       "})"
      ]
     },
     "execution_count": 7,
     "metadata": {},
     "output_type": "execute_result"
    }
   ],
   "source": [
    "data"
   ]
  },
  {
   "cell_type": "code",
   "execution_count": 8,
   "metadata": {},
   "outputs": [
    {
     "data": {
      "text/plain": [
       "{'norm_group': 'dnashlhl kheien deiekklhsiaua nrasd',\n",
       " 'translation': {'cop': 'dnashlhl kheien deiekklhsiaua nrasd',\n",
       "  'eng': 'I’ll pray in the church tomorrow'}}"
      ]
     },
     "execution_count": 8,
     "metadata": {},
     "output_type": "execute_result"
    }
   ],
   "source": [
    "data['train'][0]"
   ]
  },
  {
   "cell_type": "code",
   "execution_count": 9,
   "metadata": {},
   "outputs": [
    {
     "data": {
      "application/vnd.jupyter.widget-view+json": {
       "model_id": "a230220d949248b293674260ec24fb7d",
       "version_major": 2,
       "version_minor": 0
      },
      "text/plain": [
       "Saving the dataset (0/1 shards):   0%|          | 0/11 [00:00<?, ? examples/s]"
      ]
     },
     "metadata": {},
     "output_type": "display_data"
    }
   ],
   "source": [
    "data.save_to_disk('../datasets/bohairic-romanized')"
   ]
  },
  {
   "cell_type": "code",
   "execution_count": 13,
   "metadata": {},
   "outputs": [
    {
     "name": "stderr",
     "output_type": "stream",
     "text": [
      "/home/bizon/anaconda3/envs/coptic/lib/python3.11/site-packages/transformers/models/marian/tokenization_marian.py:194: UserWarning: Recommended: pip install sacremoses.\n",
      "  warnings.warn(\"Recommended: pip install sacremoses.\")\n"
     ]
    }
   ],
   "source": [
    "model = huggingface_model.HuggingFaceTranslationModel.from_pretrained('../models/hf/first_attempt_romanized-finetuned-cop-eng')\n"
   ]
  },
  {
   "cell_type": "code",
   "execution_count": 17,
   "metadata": {},
   "outputs": [
    {
     "name": "stdout",
     "output_type": "stream",
     "text": [
      "Computing translations from cop-eng.\n"
     ]
    },
    {
     "name": "stderr",
     "output_type": "stream",
     "text": [
      "  0%|          | 0/11 [00:00<?, ?it/s]Both `max_new_tokens` (=128) and `max_length`(=20) seem to have been set. `max_new_tokens` will take precedence. Please refer to the documentation for more information. (https://huggingface.co/docs/transformers/main/en/main_classes/text_generation)\n",
      "  9%|▉         | 1/11 [00:02<00:26,  2.68s/it]Both `max_new_tokens` (=128) and `max_length`(=20) seem to have been set. `max_new_tokens` will take precedence. Please refer to the documentation for more information. (https://huggingface.co/docs/transformers/main/en/main_classes/text_generation)\n",
      " 18%|█▊        | 2/11 [00:06<00:29,  3.33s/it]Both `max_new_tokens` (=128) and `max_length`(=20) seem to have been set. `max_new_tokens` will take precedence. Please refer to the documentation for more information. (https://huggingface.co/docs/transformers/main/en/main_classes/text_generation)\n",
      " 27%|██▋       | 3/11 [00:09<00:25,  3.24s/it]Both `max_new_tokens` (=128) and `max_length`(=20) seem to have been set. `max_new_tokens` will take precedence. Please refer to the documentation for more information. (https://huggingface.co/docs/transformers/main/en/main_classes/text_generation)\n",
      " 36%|███▋      | 4/11 [00:12<00:22,  3.21s/it]Both `max_new_tokens` (=128) and `max_length`(=20) seem to have been set. `max_new_tokens` will take precedence. Please refer to the documentation for more information. (https://huggingface.co/docs/transformers/main/en/main_classes/text_generation)\n",
      " 45%|████▌     | 5/11 [00:16<00:19,  3.32s/it]Both `max_new_tokens` (=128) and `max_length`(=20) seem to have been set. `max_new_tokens` will take precedence. Please refer to the documentation for more information. (https://huggingface.co/docs/transformers/main/en/main_classes/text_generation)\n",
      " 55%|█████▍    | 6/11 [00:19<00:15,  3.14s/it]Both `max_new_tokens` (=128) and `max_length`(=20) seem to have been set. `max_new_tokens` will take precedence. Please refer to the documentation for more information. (https://huggingface.co/docs/transformers/main/en/main_classes/text_generation)\n",
      " 64%|██████▎   | 7/11 [00:21<00:11,  2.92s/it]Both `max_new_tokens` (=128) and `max_length`(=20) seem to have been set. `max_new_tokens` will take precedence. Please refer to the documentation for more information. (https://huggingface.co/docs/transformers/main/en/main_classes/text_generation)\n",
      " 73%|███████▎  | 8/11 [00:24<00:08,  2.81s/it]Both `max_new_tokens` (=128) and `max_length`(=20) seem to have been set. `max_new_tokens` will take precedence. Please refer to the documentation for more information. (https://huggingface.co/docs/transformers/main/en/main_classes/text_generation)\n",
      " 82%|████████▏ | 9/11 [00:26<00:05,  2.79s/it]Both `max_new_tokens` (=128) and `max_length`(=20) seem to have been set. `max_new_tokens` will take precedence. Please refer to the documentation for more information. (https://huggingface.co/docs/transformers/main/en/main_classes/text_generation)\n",
      " 91%|█████████ | 10/11 [00:28<00:02,  2.38s/it]Both `max_new_tokens` (=128) and `max_length`(=20) seem to have been set. `max_new_tokens` will take precedence. Please refer to the documentation for more information. (https://huggingface.co/docs/transformers/main/en/main_classes/text_generation)\n",
      "100%|██████████| 11/11 [00:30<00:00,  2.78s/it]"
     ]
    },
    {
     "name": "stdout",
     "output_type": "stream",
     "text": [
      "Translations completed. Computing metrics...\n",
      "BLEU = 1.86 10.6/2.5/0.9/0.5 (BP = 1.000 ratio = 1.435 hyp_len = 132 ref_len = 92)\n",
      "chrF2 = 14.66\n"
     ]
    },
    {
     "name": "stderr",
     "output_type": "stream",
     "text": [
      "\n"
     ]
    }
   ],
   "source": [
    "data.data_dir = \"datasets/bohairic-romanized\"\n",
    "data['train'].data_dir = \"datasets/bohairic-romanized\"\n",
    "model.translate_test_data(data[\"train\"], BEAM_GENERATION_CONFIG)"
   ]
  },
  {
   "cell_type": "code",
   "execution_count": null,
   "metadata": {},
   "outputs": [],
   "source": []
  }
 ],
 "metadata": {
  "kernelspec": {
   "display_name": "coptic",
   "language": "python",
   "name": "python3"
  },
  "language_info": {
   "codemirror_mode": {
    "name": "ipython",
    "version": 3
   },
   "file_extension": ".py",
   "mimetype": "text/x-python",
   "name": "python",
   "nbconvert_exporter": "python",
   "pygments_lexer": "ipython3",
   "version": "3.11.0"
  }
 },
 "nbformat": 4,
 "nbformat_minor": 2
}
