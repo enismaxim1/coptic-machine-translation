{
 "cells": [
  {
   "cell_type": "code",
   "execution_count": 11,
   "metadata": {},
   "outputs": [
    {
     "name": "stdout",
     "output_type": "stream",
     "text": [
      "/mnt/storage/maxenis/coptic-machine-translation\n"
     ]
    }
   ],
   "source": [
    "%cd /mnt/storage/maxenis/coptic-machine-translation"
   ]
  },
  {
   "cell_type": "code",
   "execution_count": 12,
   "metadata": {},
   "outputs": [],
   "source": [
    "import pandas as pd\n",
    "import datasets\n",
    "import huggingface_model\n",
    "from config_consts import *\n",
    "import parse_data"
   ]
  },
  {
   "cell_type": "code",
   "execution_count": 2,
   "metadata": {},
   "outputs": [],
   "source": [
    "df = pd.DataFrame({'norm_group': [], 'translation': []})"
   ]
  },
  {
   "cell_type": "code",
   "execution_count": 3,
   "metadata": {},
   "outputs": [],
   "source": [
    "# Add row to df\n",
    "df.loc[0] = [\"ϯⲛⲁϣⲗⲏⲗ ϧⲉⲛ ϯⲉⲕⲕⲗⲏⲥⲓⲁ ⲛⲣⲁⲥϯ\", \"I’ll pray in the church tomorrow\"]\n",
    "df.loc[1] = [\"ϥⲛⲁⲓ ⲛⲉⲙ ⲡⲉϥⲓⲱⲧ ⲉ ⲡⲉⲛⲏⲓ\", \"he will come with his father to our house\"]\n",
    "df.loc[2] = [\"ⲧⲉⲛⲛⲁⲥⲱⲧⲉⲙ ⲉ ϯⲁⲛⲁⲫⲟⲣⲁ ⲛⲧⲉ ⲡⲉⲛⲓⲱⲧ ⲙⲟⲣⲕⲟⲥ\", \"we shall listen to the mass of our father Morkos\"]\n",
    "df.loc[3] = [\"ⲛⲓⲁⲗⲱⲟⲩⲓ ⲥⲉⲛⲁⲁⲣⲉϩ ⲉ ⲛⲟⲩⲱϣ\", \"the children will study their lessons\"]\n",
    "df.loc[4] = [\"ϯⲛⲁϭⲓ ⲛϩⲁⲛⲗⲟⲩⲕⲟⲩϫⲓ ⲉⲃⲟⲗ ϧⲉⲛ ⲡⲁⲥⲟⲛ\", \"I’ll take some money from my brother\"]\n",
    "df.loc[5] = [\"ϯⲛⲁⲓ ⲁⲛ ⲛⲣⲁⲥϯ ⲁⲗⲗⲁ ⲧⲛⲁⲓ ⲛⲥⲁⲣⲁⲥϯ\", \"I shall not come tomorrow, but I shall come the day after tomorrow\"]\n",
    "df.loc[6] = [\"ϯⲛⲁⲙⲟⲩⲕϩ ⲁⲙⲁϣⲱ ⲓⲥϫⲉ ⲕⲥⲱⲧⲉⲙ ⲁⲛ\", \"I’ll be very upset if you don't listen\"]\n",
    "df.loc[7] = [\"ⲧⲉⲛⲛⲁϣⲱⲡ ⲛϩⲁⲛϩⲣⲏⲣⲓ ⲉⲑⲃⲉ ⲧⲉⲛⲙⲁⲩ\", \"we shall buy some flowers for our mother\"]\n",
    "df.loc[8] = [\"ⲧⲉⲛⲁⲭⲱ ⲛⲟⲩϩⲙⲟⲩ ⲉϫⲉⲛ ϯϧⲣⲉ\", \"will you put salt on the food?\"]\n",
    "df.loc[9] = [\"ⲕⲟⲩⲱϣ ⲉⲟⲩⲱⲙ ϯⲛⲟⲩ\", \"do you want to eat now?\"]\n",
    "df.loc[10] = [\"ϯⲥⲱⲟⲩⲛ ⲁⲛ ⲓⲥϫⲉ ϥⲛⲁⲓ ⲓⲉ ⲙⲙⲟⲛ\", \"I do not know whether he will come or not\"]"
   ]
  },
  {
   "cell_type": "code",
   "execution_count": 4,
   "metadata": {},
   "outputs": [],
   "source": [
    "df.to_csv('../datasets/bohairic.csv', index=False)"
   ]
  },
  {
   "cell_type": "code",
   "execution_count": 5,
   "metadata": {},
   "outputs": [],
   "source": [
    "data = datasets.load_dataset('csv', data_files='../datasets/bohairic-romanized.csv')"
   ]
  },
  {
   "cell_type": "code",
   "execution_count": 6,
   "metadata": {},
   "outputs": [
    {
     "data": {
      "application/vnd.jupyter.widget-view+json": {
       "model_id": "0c083cbd0d624a8bb78335e56c9e7e23",
       "version_major": 2,
       "version_minor": 0
      },
      "text/plain": [
       "Map:   0%|          | 0/11 [00:00<?, ? examples/s]"
      ]
     },
     "metadata": {},
     "output_type": "display_data"
    }
   ],
   "source": [
    "data = data.map(lambda x: {'translation': {\"cop\": x['norm_group'], \"eng\": x['translation']}})"
   ]
  },
  {
   "cell_type": "code",
   "execution_count": 6,
   "metadata": {},
   "outputs": [
    {
     "data": {
      "text/plain": [
       "DatasetDict({\n",
       "    train: Dataset({\n",
       "        features: ['norm_group', 'translation'],\n",
       "        num_rows: 11\n",
       "    })\n",
       "})"
      ]
     },
     "execution_count": 6,
     "metadata": {},
     "output_type": "execute_result"
    }
   ],
   "source": [
    "data"
   ]
  },
  {
   "cell_type": "code",
   "execution_count": 7,
   "metadata": {},
   "outputs": [
    {
     "data": {
      "text/plain": [
       "{'norm_group': 'dnashlhl kheien deiekklhsiaua nrasd',\n",
       " 'translation': 'I’ll pray in the church tomorrow'}"
      ]
     },
     "execution_count": 7,
     "metadata": {},
     "output_type": "execute_result"
    }
   ],
   "source": [
    "data['train'][0]"
   ]
  },
  {
   "cell_type": "code",
   "execution_count": 9,
   "metadata": {},
   "outputs": [
    {
     "data": {
      "application/vnd.jupyter.widget-view+json": {
       "model_id": "a230220d949248b293674260ec24fb7d",
       "version_major": 2,
       "version_minor": 0
      },
      "text/plain": [
       "Saving the dataset (0/1 shards):   0%|          | 0/11 [00:00<?, ? examples/s]"
      ]
     },
     "metadata": {},
     "output_type": "display_data"
    }
   ],
   "source": [
    "data.save_to_disk('../datasets/bohairic-romanized')"
   ]
  },
  {
   "cell_type": "code",
   "execution_count": 19,
   "metadata": {},
   "outputs": [
    {
     "name": "stderr",
     "output_type": "stream",
     "text": [
      "/home/bizon/anaconda3/envs/coptic/lib/python3.11/site-packages/transformers/models/marian/tokenization_marian.py:194: UserWarning: Recommended: pip install sacremoses.\n",
      "  warnings.warn(\"Recommended: pip install sacremoses.\")\n"
     ]
    }
   ],
   "source": [
    "model = huggingface_model.HuggingFaceTranslationModel.from_pretrained('models/hf/fifth_attempt-norm_romanized-finetuned-cop-eng')\n"
   ]
  },
  {
   "cell_type": "code",
   "execution_count": 20,
   "metadata": {},
   "outputs": [
    {
     "name": "stdout",
     "output_type": "stream",
     "text": [
      "Computing translations from cop-eng.\n"
     ]
    },
    {
     "name": "stderr",
     "output_type": "stream",
     "text": [
      "  0%|          | 0/11 [00:00<?, ?it/s]Both `max_new_tokens` (=128) and `max_length`(=20) seem to have been set. `max_new_tokens` will take precedence. Please refer to the documentation for more information. (https://huggingface.co/docs/transformers/main/en/main_classes/text_generation)\n",
      "  9%|▉         | 1/11 [00:00<00:01,  6.38it/s]Both `max_new_tokens` (=128) and `max_length`(=20) seem to have been set. `max_new_tokens` will take precedence. Please refer to the documentation for more information. (https://huggingface.co/docs/transformers/main/en/main_classes/text_generation)\n"
     ]
    },
    {
     "name": "stderr",
     "output_type": "stream",
     "text": [
      " 18%|█▊        | 2/11 [00:00<00:01,  6.02it/s]Both `max_new_tokens` (=128) and `max_length`(=20) seem to have been set. `max_new_tokens` will take precedence. Please refer to the documentation for more information. (https://huggingface.co/docs/transformers/main/en/main_classes/text_generation)\n",
      " 27%|██▋       | 3/11 [00:00<00:01,  5.24it/s]Both `max_new_tokens` (=128) and `max_length`(=20) seem to have been set. `max_new_tokens` will take precedence. Please refer to the documentation for more information. (https://huggingface.co/docs/transformers/main/en/main_classes/text_generation)\n",
      " 36%|███▋      | 4/11 [00:00<00:01,  5.95it/s]Both `max_new_tokens` (=128) and `max_length`(=20) seem to have been set. `max_new_tokens` will take precedence. Please refer to the documentation for more information. (https://huggingface.co/docs/transformers/main/en/main_classes/text_generation)\n",
      " 45%|████▌     | 5/11 [00:00<00:00,  6.43it/s]Both `max_new_tokens` (=128) and `max_length`(=20) seem to have been set. `max_new_tokens` will take precedence. Please refer to the documentation for more information. (https://huggingface.co/docs/transformers/main/en/main_classes/text_generation)\n",
      " 55%|█████▍    | 6/11 [00:01<00:00,  5.80it/s]Both `max_new_tokens` (=128) and `max_length`(=20) seem to have been set. `max_new_tokens` will take precedence. Please refer to the documentation for more information. (https://huggingface.co/docs/transformers/main/en/main_classes/text_generation)\n",
      " 64%|██████▎   | 7/11 [00:01<00:00,  4.84it/s]Both `max_new_tokens` (=128) and `max_length`(=20) seem to have been set. `max_new_tokens` will take precedence. Please refer to the documentation for more information. (https://huggingface.co/docs/transformers/main/en/main_classes/text_generation)\n",
      " 73%|███████▎  | 8/11 [00:01<00:00,  5.03it/s]Both `max_new_tokens` (=128) and `max_length`(=20) seem to have been set. `max_new_tokens` will take precedence. Please refer to the documentation for more information. (https://huggingface.co/docs/transformers/main/en/main_classes/text_generation)\n",
      " 82%|████████▏ | 9/11 [00:01<00:00,  4.30it/s]Both `max_new_tokens` (=128) and `max_length`(=20) seem to have been set. `max_new_tokens` will take precedence. Please refer to the documentation for more information. (https://huggingface.co/docs/transformers/main/en/main_classes/text_generation)\n",
      " 91%|█████████ | 10/11 [00:01<00:00,  4.99it/s]Both `max_new_tokens` (=128) and `max_length`(=20) seem to have been set. `max_new_tokens` will take precedence. Please refer to the documentation for more information. (https://huggingface.co/docs/transformers/main/en/main_classes/text_generation)\n",
      "100%|██████████| 11/11 [00:02<00:00,  5.16it/s]"
     ]
    },
    {
     "name": "stdout",
     "output_type": "stream",
     "text": [
      "Translations completed. Computing metrics...\n",
      "BLEU = 1.06 8.5/1.5/0.4/0.2 (BP = 1.000 ratio = 1.533 hyp_len = 141 ref_len = 92)\n",
      "chrF2 = 14.58\n"
     ]
    },
    {
     "name": "stderr",
     "output_type": "stream",
     "text": [
      "\n"
     ]
    }
   ],
   "source": [
    "data = parse_data.load_test_set(\"datasets/bohairic-romanized.csv\", \"cop\", \"eng\", \"norm_group\", \"translation\")\n",
    "model.translate_test_data(data, BEAM_GENERATION_CONFIG)"
   ]
  },
  {
   "cell_type": "code",
   "execution_count": null,
   "metadata": {},
   "outputs": [],
   "source": []
  }
 ],
 "metadata": {
  "kernelspec": {
   "display_name": "coptic",
   "language": "python",
   "name": "python3"
  },
  "language_info": {
   "codemirror_mode": {
    "name": "ipython",
    "version": 3
   },
   "file_extension": ".py",
   "mimetype": "text/x-python",
   "name": "python",
   "nbconvert_exporter": "python",
   "pygments_lexer": "ipython3",
   "version": "3.11.0"
  }
 },
 "nbformat": 4,
 "nbformat_minor": 2
}
