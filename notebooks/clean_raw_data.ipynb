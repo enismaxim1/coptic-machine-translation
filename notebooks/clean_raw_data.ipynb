{
 "cells": [
  {
   "cell_type": "code",
   "execution_count": 209,
   "metadata": {},
   "outputs": [
    {
     "name": "stdout",
     "output_type": "stream",
     "text": [
      "/mnt/storage/maxenis/coptic-machine-translation\n"
     ]
    }
   ],
   "source": [
    "%cd /mnt/storage/maxenis/coptic-machine-translation"
   ]
  },
  {
   "cell_type": "code",
   "execution_count": 210,
   "metadata": {},
   "outputs": [
    {
     "data": {
      "text/plain": [
       "<module 'parse_data' from '/mnt/storage/maxenis/coptic-machine-translation/parse_data.py'>"
      ]
     },
     "execution_count": 210,
     "metadata": {},
     "output_type": "execute_result"
    }
   ],
   "source": [
    "import pandas as pd\n",
    "import string\n",
    "import parse_data\n",
    "import datasets\n",
    "from importlib import reload\n",
    "reload(parse_data)"
   ]
  },
  {
   "cell_type": "code",
   "execution_count": 211,
   "metadata": {},
   "outputs": [
    {
     "data": {
      "text/html": [
       "<div>\n",
       "<style scoped>\n",
       "    .dataframe tbody tr th:only-of-type {\n",
       "        vertical-align: middle;\n",
       "    }\n",
       "\n",
       "    .dataframe tbody tr th {\n",
       "        vertical-align: top;\n",
       "    }\n",
       "\n",
       "    .dataframe thead th {\n",
       "        text-align: right;\n",
       "    }\n",
       "</style>\n",
       "<table border=\"1\" class=\"dataframe\">\n",
       "  <thead>\n",
       "    <tr style=\"text-align: right;\">\n",
       "      <th></th>\n",
       "      <th>Unnamed: 0</th>\n",
       "      <th>translation</th>\n",
       "      <th>norm_group</th>\n",
       "      <th>norm</th>\n",
       "      <th>func</th>\n",
       "      <th>pos</th>\n",
       "      <th>arabic</th>\n",
       "      <th>meta::translation</th>\n",
       "      <th>meta::title</th>\n",
       "    </tr>\n",
       "  </thead>\n",
       "  <tbody>\n",
       "    <tr>\n",
       "      <th>0</th>\n",
       "      <td>0</td>\n",
       "      <td>…he saying, “I desire to save my soul.”</td>\n",
       "      <td>ⲉⲩⲉ ⲉϥϫⲱ ⲙⲙⲟⲥ . ϫⲉⲉⲓⲟⲩⲱϣ ⲉⲧⲟⲩϫⲉⲧⲁⲯⲩⲭⲏ .</td>\n",
       "      <td>ⲉⲩⲉ ⲉ ϥ ϫⲱ ⲙⲙⲟ ⲥ . ϫⲉ ⲉ ⲓ ⲟⲩⲱϣ ⲉ ⲧⲟⲩϫⲉ ⲧⲁ ⲯⲩⲭⲏ .</td>\n",
       "      <td>dep mark nsubj root case obj punct mark mark n...</td>\n",
       "      <td>UNKNOWN CCIRC PPERS V PREP PPERO PUNCT CONJ CF...</td>\n",
       "      <td>قائلاٍ: أريد خلاص نفسي</td>\n",
       "      <td>Christine Luckritz Marquis, Amir Zeldes</td>\n",
       "      <td>Apophthegmata Patrum Sahidic 001: Anonymous Na...</td>\n",
       "    </tr>\n",
       "    <tr>\n",
       "      <th>1</th>\n",
       "      <td>1</td>\n",
       "      <td>She labored to stop him, but she was not able to.</td>\n",
       "      <td>ⲛⲧⲟⲥ ⲇⲉ ⲁⲥϩⲓⲥⲉ ⲉⲥϣⲱϣⲧ ⲙⲙⲟϥ ⲙⲡⲉⲥϣϭⲙϭⲟⲙ ⲉⲣⲟϥ</td>\n",
       "      <td>ⲛⲧⲟⲥ ⲇⲉ ⲁ ⲥ ϩⲓⲥⲉ ⲉ ⲥ ϣⲱϣⲧ ⲙⲙⲟ ϥ ⲙⲡⲉ ⲥ ϣ ϭⲙϭⲟⲙ ...</td>\n",
       "      <td>dislocated advmod aux nsubj root mark nsubj ad...</td>\n",
       "      <td>PPERI PTC APST PPERS V CCIRC PPERS V PREP PPER...</td>\n",
       "      <td>أما هي فقد بذلت ما في وسعها لتعرقله ولم تقدر عليه</td>\n",
       "      <td>Christine Luckritz Marquis, Amir Zeldes</td>\n",
       "      <td>Apophthegmata Patrum Sahidic 001: Anonymous Na...</td>\n",
       "    </tr>\n",
       "    <tr>\n",
       "      <th>2</th>\n",
       "      <td>2</td>\n",
       "      <td>Afterwards, she left him.</td>\n",
       "      <td>ⲙⲛⲛⲥⲱⲥ ⲁⲥⲕⲁⲁϥ ⲉⲃⲟⲗ .</td>\n",
       "      <td>ⲙⲛⲛⲥⲱ ⲥ ⲁ ⲥ ⲕⲁⲁ ϥ ⲉⲃⲟⲗ .</td>\n",
       "      <td>case obl aux nsubj root obj advmod punct</td>\n",
       "      <td>PREP PPERO APST PPERS V PPERO ADV PUNCT</td>\n",
       "      <td>بعد ذلك تركته</td>\n",
       "      <td>Christine Luckritz Marquis, Amir Zeldes</td>\n",
       "      <td>Apophthegmata Patrum Sahidic 001: Anonymous Na...</td>\n",
       "    </tr>\n",
       "    <tr>\n",
       "      <th>3</th>\n",
       "      <td>3</td>\n",
       "      <td>When he had gone and become a monk, he became ...</td>\n",
       "      <td>ⲛⲧⲉⲣⲉϥⲃⲱⲕ ⲇⲉ ⲛϥⲣⲙⲟⲛⲁⲭⲟⲥ ⲁϥϣⲱⲡⲉ ϩⲛⲟⲩⲁⲙⲉⲗⲓⲁ . ⲁⲩ...</td>\n",
       "      <td>ⲛⲧⲉⲣⲉ ϥ ⲃⲱⲕ ⲇⲉ ⲛ ϥ ⲣⲙⲟⲛⲁⲭⲟⲥ ⲁ ϥ ϣⲱⲡⲉ ϩⲛ ⲟⲩ ⲁⲙⲉ...</td>\n",
       "      <td>aux nsubj advcl advmod aux nsubj advcl aux nsu...</td>\n",
       "      <td>APREC PPERS V PTC ACONJ PPERS V APST PPERS V P...</td>\n",
       "      <td>ولما ذهب وترهبن صار في توانٍ وقضى حياته في الشر</td>\n",
       "      <td>Christine Luckritz Marquis, Amir Zeldes</td>\n",
       "      <td>Apophthegmata Patrum Sahidic 001: Anonymous Na...</td>\n",
       "    </tr>\n",
       "    <tr>\n",
       "      <th>4</th>\n",
       "      <td>4</td>\n",
       "      <td>And it happened, when his mother had died, aft...</td>\n",
       "      <td>ⲁⲥϣⲱⲡⲉ ⲇⲉ ⲛⲧⲉⲣⲉⲧⲉϥⲙⲁⲁⲩ ⲙⲟⲩ . ⲙⲛⲛⲥⲁⲟⲩⲟⲉⲓϣ ⲇⲉ ⲁϥ...</td>\n",
       "      <td>ⲁ ⲥ ϣⲱⲡⲉ ⲇⲉ ⲛⲧⲉⲣⲉ ⲧⲉϥ ⲙⲁⲁⲩ ⲙⲟⲩ . ⲙⲛⲛⲥⲁ ⲟⲩⲟⲉⲓϣ ...</td>\n",
       "      <td>aux nsubj root advmod aux det nsubj advcl punc...</td>\n",
       "      <td>APST PPERS V PTC APREC PPOS N V PUNCT PREP N P...</td>\n",
       "      <td>وحدث لما توفت أمه، بعد وقت قليل  أن مرض مرضاً ...</td>\n",
       "      <td>Christine Luckritz Marquis, Amir Zeldes</td>\n",
       "      <td>Apophthegmata Patrum Sahidic 001: Anonymous Na...</td>\n",
       "    </tr>\n",
       "  </tbody>\n",
       "</table>\n",
       "</div>"
      ],
      "text/plain": [
       "   Unnamed: 0                                        translation  \\\n",
       "0           0            …he saying, “I desire to save my soul.”   \n",
       "1           1  She labored to stop him, but she was not able to.   \n",
       "2           2                          Afterwards, she left him.   \n",
       "3           3  When he had gone and become a monk, he became ...   \n",
       "4           4  And it happened, when his mother had died, aft...   \n",
       "\n",
       "                                          norm_group  \\\n",
       "0            ⲉⲩⲉ ⲉϥϫⲱ ⲙⲙⲟⲥ . ϫⲉⲉⲓⲟⲩⲱϣ ⲉⲧⲟⲩϫⲉⲧⲁⲯⲩⲭⲏ .   \n",
       "1         ⲛⲧⲟⲥ ⲇⲉ ⲁⲥϩⲓⲥⲉ ⲉⲥϣⲱϣⲧ ⲙⲙⲟϥ ⲙⲡⲉⲥϣϭⲙϭⲟⲙ ⲉⲣⲟϥ   \n",
       "2                               ⲙⲛⲛⲥⲱⲥ ⲁⲥⲕⲁⲁϥ ⲉⲃⲟⲗ .   \n",
       "3  ⲛⲧⲉⲣⲉϥⲃⲱⲕ ⲇⲉ ⲛϥⲣⲙⲟⲛⲁⲭⲟⲥ ⲁϥϣⲱⲡⲉ ϩⲛⲟⲩⲁⲙⲉⲗⲓⲁ . ⲁⲩ...   \n",
       "4  ⲁⲥϣⲱⲡⲉ ⲇⲉ ⲛⲧⲉⲣⲉⲧⲉϥⲙⲁⲁⲩ ⲙⲟⲩ . ⲙⲛⲛⲥⲁⲟⲩⲟⲉⲓϣ ⲇⲉ ⲁϥ...   \n",
       "\n",
       "                                                norm  \\\n",
       "0   ⲉⲩⲉ ⲉ ϥ ϫⲱ ⲙⲙⲟ ⲥ . ϫⲉ ⲉ ⲓ ⲟⲩⲱϣ ⲉ ⲧⲟⲩϫⲉ ⲧⲁ ⲯⲩⲭⲏ .   \n",
       "1  ⲛⲧⲟⲥ ⲇⲉ ⲁ ⲥ ϩⲓⲥⲉ ⲉ ⲥ ϣⲱϣⲧ ⲙⲙⲟ ϥ ⲙⲡⲉ ⲥ ϣ ϭⲙϭⲟⲙ ...   \n",
       "2                           ⲙⲛⲛⲥⲱ ⲥ ⲁ ⲥ ⲕⲁⲁ ϥ ⲉⲃⲟⲗ .   \n",
       "3  ⲛⲧⲉⲣⲉ ϥ ⲃⲱⲕ ⲇⲉ ⲛ ϥ ⲣⲙⲟⲛⲁⲭⲟⲥ ⲁ ϥ ϣⲱⲡⲉ ϩⲛ ⲟⲩ ⲁⲙⲉ...   \n",
       "4  ⲁ ⲥ ϣⲱⲡⲉ ⲇⲉ ⲛⲧⲉⲣⲉ ⲧⲉϥ ⲙⲁⲁⲩ ⲙⲟⲩ . ⲙⲛⲛⲥⲁ ⲟⲩⲟⲉⲓϣ ...   \n",
       "\n",
       "                                                func  \\\n",
       "0  dep mark nsubj root case obj punct mark mark n...   \n",
       "1  dislocated advmod aux nsubj root mark nsubj ad...   \n",
       "2           case obl aux nsubj root obj advmod punct   \n",
       "3  aux nsubj advcl advmod aux nsubj advcl aux nsu...   \n",
       "4  aux nsubj root advmod aux det nsubj advcl punc...   \n",
       "\n",
       "                                                 pos  \\\n",
       "0  UNKNOWN CCIRC PPERS V PREP PPERO PUNCT CONJ CF...   \n",
       "1  PPERI PTC APST PPERS V CCIRC PPERS V PREP PPER...   \n",
       "2            PREP PPERO APST PPERS V PPERO ADV PUNCT   \n",
       "3  APREC PPERS V PTC ACONJ PPERS V APST PPERS V P...   \n",
       "4  APST PPERS V PTC APREC PPOS N V PUNCT PREP N P...   \n",
       "\n",
       "                                              arabic  \\\n",
       "0                             قائلاٍ: أريد خلاص نفسي   \n",
       "1  أما هي فقد بذلت ما في وسعها لتعرقله ولم تقدر عليه   \n",
       "2                                      بعد ذلك تركته   \n",
       "3    ولما ذهب وترهبن صار في توانٍ وقضى حياته في الشر   \n",
       "4  وحدث لما توفت أمه، بعد وقت قليل  أن مرض مرضاً ...   \n",
       "\n",
       "                         meta::translation  \\\n",
       "0  Christine Luckritz Marquis, Amir Zeldes   \n",
       "1  Christine Luckritz Marquis, Amir Zeldes   \n",
       "2  Christine Luckritz Marquis, Amir Zeldes   \n",
       "3  Christine Luckritz Marquis, Amir Zeldes   \n",
       "4  Christine Luckritz Marquis, Amir Zeldes   \n",
       "\n",
       "                                         meta::title  \n",
       "0  Apophthegmata Patrum Sahidic 001: Anonymous Na...  \n",
       "1  Apophthegmata Patrum Sahidic 001: Anonymous Na...  \n",
       "2  Apophthegmata Patrum Sahidic 001: Anonymous Na...  \n",
       "3  Apophthegmata Patrum Sahidic 001: Anonymous Na...  \n",
       "4  Apophthegmata Patrum Sahidic 001: Anonymous Na...  "
      ]
     },
     "execution_count": 211,
     "metadata": {},
     "output_type": "execute_result"
    }
   ],
   "source": [
    "raw_df = pd.read_csv(\"datasets/raw_data.csv\")\n",
    "raw_df.head()"
   ]
  },
  {
   "cell_type": "code",
   "execution_count": 212,
   "metadata": {},
   "outputs": [],
   "source": [
    "illegal = set(string.ascii_lowercase + string.ascii_uppercase)\n",
    "\n",
    "def replace_apos(df):\n",
    "    for col in df.columns:\n",
    "        # if string column\n",
    "        if df[col].dtype == object:\n",
    "            df[col] = df[col].str.replace(\"&apos;\", \"'\")\n",
    "\n",
    "def clean_empty_norms(df):\n",
    "    return df[~df[\"norm\"].str.contains(\"_warn:empty_norm_\")]\n",
    "\n",
    "def first_illegal(s):\n",
    "    for i, c in enumerate(s):\n",
    "        if c in illegal:\n",
    "            return i, c\n",
    "\n",
    "def invalid(s):\n",
    "    return any(c in illegal for c in s)\n",
    "\n",
    "# get dataframe of all rows with invalid norm\n",
    "def get_invalid(df):\n",
    "    return df[df[\"norm\"].apply(invalid)]\n",
    "\n",
    "def find_invalid(string: str):\n",
    "    for index, c in enumerate(string):\n",
    "        if c in illegal:\n",
    "            return index, c\n",
    "        \n",
    "replace_apos(raw_df)"
   ]
  },
  {
   "cell_type": "code",
   "execution_count": 213,
   "metadata": {},
   "outputs": [
    {
     "data": {
      "text/plain": [
       "68"
      ]
     },
     "execution_count": 213,
     "metadata": {},
     "output_type": "execute_result"
    }
   ],
   "source": [
    "\n",
    "len(get_invalid(raw_df))\n"
   ]
  },
  {
   "cell_type": "code",
   "execution_count": 214,
   "metadata": {},
   "outputs": [
    {
     "data": {
      "text/plain": [
       "49"
      ]
     },
     "execution_count": 214,
     "metadata": {},
     "output_type": "execute_result"
    }
   ],
   "source": [
    "data = clean_empty_norms(raw_df)\n",
    "len(get_invalid(data))"
   ]
  },
  {
   "cell_type": "code",
   "execution_count": 35,
   "metadata": {},
   "outputs": [
    {
     "name": "stdout",
     "output_type": "stream",
     "text": [
      "norms changed:\n",
      "397        ⲉⲙⲁⲧⲉ ϩⲛ oⲩ ϭⲉⲡⲏ ⲁⲩⲱ ϯ ⲉⲡⲓⲑⲩⲙⲉⲓ ⲉ ⲛⲁⲩ ⲉ ⲡ ⲣⲣⲟ .\n",
      "3553      ⲁ ⲡ ⲛⲟⲩⲧⲉ ϯ ⲛⲁ ⲕ ⲙ ⲡ ϩⲟⲩo ⲙ ⲡⲉ ⲛ ⲧ ϩⲉ ⲛ ϩⲏⲗⲓⲁⲥ ·\n",
      "3771     ⲁ ϥ oⲩⲱⲃϣ ⲛϭⲓ ⲡ ⲣⲱⲙⲉ ϫⲉ ϥ ⲟⲛϩ ⲛϭⲓ ⲡ ⲭⲣⲓⲥⲧⲟⲥ · ...\n",
      "8432     ⲡⲉϫⲁ ϥ ϫⲉ ϣⲁ ϩⲣⲁⲓ ⲉ oⲩ ϣⲁϫⲉ ⲛ ⲟⲩⲱⲧ ⲛ ⲁⲣⲅⲟⲛ · ⲡ...\n",
      "9885     ⲛ ⲧⲉⲧⲛ ϩⲁⲣⲉϩ ⲉ ⲡⲉⲓ ⲛⲟⲙⲟⲥ ⲕⲁⲧⲁ ⲛⲉoⲩⲟⲉⲓϣ ⲛ ⲛⲉϥ ⲟ...\n",
      "11649    . . . ⲛⲁ ϣⲱⲡⲉ ⲉ ⲕ ⲥⲙⲁⲙⲁⲁⲧ . . . . . ⲃⲱⲕ ⲉϩⲟⲩⲛ ...\n",
      "11766    ⲁⲩⲱ ⲙⲱⲩⲥⲏⲥ ⲁ ϥ ϩⲱⲛ ⲉⲧⲟⲟⲧ ⲟⲩ ⲁ ϥ ϫⲟⲟⲩ . . . . ....\n",
      "11942    ⲁⲩⲱ ⲛ ϣⲏⲣⲉ ⲛ ϩⲣⲟⲩⲃⲏ ⲛ ⲙⲛ ⲛϣⲏⲣⲉ ⲛ ⲅⲁⲇ ⲁⲩⲱ ⲧ ⲡⲁϣ...\n",
      "11945    ⲁⲩⲱ ⲡ ϫⲟⲉⲓⲥ ⲁ ϥ ϣⲁϫⲉ ⲙⲛ ⲓⲏⲥⲟⲩⲥ ⲉ ϥ ϫⲱ ⲙⲙⲟ ⲥ ⲛⲁ...\n",
      "11951    ⲉ ϥ ϫⲱ ⲙⲙⲟ ⲥ ⲛ ⲛ ϣⲏⲣⲉ ⲙ ⲡ ⲓⲥⲣⲁⲏⲗ ϫⲉ ⲉⲩϣⲁⲛ ϫⲛⲟⲩ...\n",
      "15676    ⲛ ϩⲉⲛ ⲁⲥⲡⲉ ⲁⲛ ⲛⲉ oⲩⲇⲉ ⲛ ϩⲉⲛ ϣⲁϫⲉ ⲁⲛ ⲛⲉ ⲉ ⲛ ⲥⲉ ...\n",
      "19774    ⲁ ⲩ ⲉⲓ ⲉⲃⲟⲗ ϩⲛ ⲟⲩ ⲏⲡⲉ ⲙⲡⲉ ⲟⲩⲁ ⲙⲙⲟ ⲟⲩ ⲥ ⲱⲣⲙ ⲙⲡⲉ...\n",
      "21120                        ϩⲙ {text lost ? } ⲡ ⲕⲁϩ ⲛⲉⲙⲁⲑ\n",
      "22403    untranscribed commentary text within the line ...\n",
      "22431    ⲉϣⲱⲡⲉ ………… ⲉϥϣⲁⲛ ϩⲉ ⲉ ⲟⲩ ⲟⲉⲓϣ ϥ……untranscribed...\n",
      "22523    ⲙⲡⲣⲧⲣⲉ ⲟⲩⲙⲛⲧⲙⲁⲓⲥϩⲓⲙⲉ ⲧⲁϩⲟ ⲓ ⲙⲛ ⲟⲩ ⲟⲩⲱϣ ⲛⲧⲉ ⲧ ϩ...\n",
      "22722    ⲛ ⲁⲛ ⲟⲩ ⲡ ⲙⲟⲩ ⲉϩⲟⲩⲉ ⲟⲩ ϭⲓⲛⲱⲛϩ ⲉ ⲥ ϩⲟⲟⲩ ⲁⲩⲱ ⲉϩⲟ...\n",
      "22866    ⲧⲱⲟⲩⲛ ⲧ ϩⲓⲏⲙ ⲛ ⲧⲉ ⲁϩⲉ ⲣⲁⲧⲉ ⲉϫⲙ ⲡ ϫⲓⲥⲉ ⲛ ⲧⲉ ϭⲱϣ...\n",
      "24070    ⲁⲩⲱ ⲁ ⲡ ⲁⲗⲉⲕⲧⲱⲣ ⲙⲟⲩⲧⲉ ⲙ ⲡ ⲙⲉϩⲥⲉⲡⲥⲛⲁⲩ . ⲁ ϥ ⲣ ⲡ...\n",
      "25819    ⲁⲩⲱ ⲁ ⲡ ⲁⲗⲉⲕⲧⲱⲣ ⲙⲟⲩⲧⲉ ⲙ ⲡ ⲙⲉϩⲥⲉⲡⲥⲛⲁⲩ . ⲁ ϥ ⲣ ⲡ...\n",
      "32162    ⲁⲩⲱ ⲛ ⲧⲉⲓ ϩⲉ ϣⲁⲣⲉ ⲡ ⲙⲁⲓⲛⲟⲩⲧⲉ ⲟⲩⲱⲛϩ ⲉⲃⲟⲗ ⲙ ⲡⲉϥ ...\n",
      "33144    ⲃⲱⲕ ϣⲁ ⲛ ⲉⲧ ⲙⲙⲁⲩ · ⲁⲗⲗⲁ ⲉϣⲱⲡⲉ ⲁ ⲩ ⲥⲟⲩⲱⲛ ⲟⲩ ⲙⲁⲩ...\n",
      "Name: norm, dtype: object\n"
     ]
    },
    {
     "name": "stderr",
     "output_type": "stream",
     "text": [
      "/tmp/ipykernel_3457371/2663060917.py:5: SettingWithCopyWarning: \n",
      "A value is trying to be set on a copy of a slice from a DataFrame.\n",
      "Try using .loc[row_indexer,col_indexer] = value instead\n",
      "\n",
      "See the caveats in the documentation: https://pandas.pydata.org/pandas-docs/stable/user_guide/indexing.html#returning-a-view-versus-a-copy\n",
      "  data[\"norm\"] = data[\"norm\"].str.replace(\"o\", coptic_o)\n",
      "/tmp/ipykernel_3457371/2663060917.py:6: SettingWithCopyWarning: \n",
      "A value is trying to be set on a copy of a slice from a DataFrame.\n",
      "Try using .loc[row_indexer,col_indexer] = value instead\n",
      "\n",
      "See the caveats in the documentation: https://pandas.pydata.org/pandas-docs/stable/user_guide/indexing.html#returning-a-view-versus-a-copy\n",
      "  data[\"norm_group\"] = data[\"norm_group\"].str.replace(\"o\", coptic_o)\n",
      "/tmp/ipykernel_3457371/2663060917.py:9: SettingWithCopyWarning: \n",
      "A value is trying to be set on a copy of a slice from a DataFrame.\n",
      "Try using .loc[row_indexer,col_indexer] = value instead\n",
      "\n",
      "See the caveats in the documentation: https://pandas.pydata.org/pandas-docs/stable/user_guide/indexing.html#returning-a-view-versus-a-copy\n",
      "  data[\"norm\"] = data[\"norm\"].str.replace(\"i\", coptic_i)\n",
      "/tmp/ipykernel_3457371/2663060917.py:10: SettingWithCopyWarning: \n",
      "A value is trying to be set on a copy of a slice from a DataFrame.\n",
      "Try using .loc[row_indexer,col_indexer] = value instead\n",
      "\n",
      "See the caveats in the documentation: https://pandas.pydata.org/pandas-docs/stable/user_guide/indexing.html#returning-a-view-versus-a-copy\n",
      "  data[\"norm_group\"] = data[\"norm_group\"].str.replace(\"i\", coptic_i)\n",
      "/tmp/ipykernel_3457371/2663060917.py:13: SettingWithCopyWarning: \n",
      "A value is trying to be set on a copy of a slice from a DataFrame.\n",
      "Try using .loc[row_indexer,col_indexer] = value instead\n",
      "\n",
      "See the caveats in the documentation: https://pandas.pydata.org/pandas-docs/stable/user_guide/indexing.html#returning-a-view-versus-a-copy\n",
      "  data[\"norm\"] = data[\"norm\"].str.replace(\"a\", coptic_a)\n",
      "/tmp/ipykernel_3457371/2663060917.py:14: SettingWithCopyWarning: \n",
      "A value is trying to be set on a copy of a slice from a DataFrame.\n",
      "Try using .loc[row_indexer,col_indexer] = value instead\n",
      "\n",
      "See the caveats in the documentation: https://pandas.pydata.org/pandas-docs/stable/user_guide/indexing.html#returning-a-view-versus-a-copy\n",
      "  data[\"norm_group\"] = data[\"norm_group\"].str.replace(\"a\", coptic_a)\n",
      "/tmp/ipykernel_3457371/2663060917.py:17: SettingWithCopyWarning: \n",
      "A value is trying to be set on a copy of a slice from a DataFrame.\n",
      "Try using .loc[row_indexer,col_indexer] = value instead\n",
      "\n",
      "See the caveats in the documentation: https://pandas.pydata.org/pandas-docs/stable/user_guide/indexing.html#returning-a-view-versus-a-copy\n",
      "  data[\"norm\"] = data[\"norm\"].str.replace(\"n\", coptic_n)\n",
      "/tmp/ipykernel_3457371/2663060917.py:18: SettingWithCopyWarning: \n",
      "A value is trying to be set on a copy of a slice from a DataFrame.\n",
      "Try using .loc[row_indexer,col_indexer] = value instead\n",
      "\n",
      "See the caveats in the documentation: https://pandas.pydata.org/pandas-docs/stable/user_guide/indexing.html#returning-a-view-versus-a-copy\n",
      "  data[\"norm_group\"] = data[\"norm_group\"].str.replace(\"n\", coptic_n)\n",
      "/tmp/ipykernel_3457371/2663060917.py:21: SettingWithCopyWarning: \n",
      "A value is trying to be set on a copy of a slice from a DataFrame.\n",
      "Try using .loc[row_indexer,col_indexer] = value instead\n",
      "\n",
      "See the caveats in the documentation: https://pandas.pydata.org/pandas-docs/stable/user_guide/indexing.html#returning-a-view-versus-a-copy\n",
      "  data[\"norm\"] = data[\"norm\"].str.replace(\"l\", coptic_l)\n",
      "/tmp/ipykernel_3457371/2663060917.py:22: SettingWithCopyWarning: \n",
      "A value is trying to be set on a copy of a slice from a DataFrame.\n",
      "Try using .loc[row_indexer,col_indexer] = value instead\n",
      "\n",
      "See the caveats in the documentation: https://pandas.pydata.org/pandas-docs/stable/user_guide/indexing.html#returning-a-view-versus-a-copy\n",
      "  data[\"norm_group\"] = data[\"norm_group\"].str.replace(\"l\", coptic_l)\n",
      "/tmp/ipykernel_3457371/2663060917.py:25: SettingWithCopyWarning: \n",
      "A value is trying to be set on a copy of a slice from a DataFrame.\n",
      "Try using .loc[row_indexer,col_indexer] = value instead\n",
      "\n",
      "See the caveats in the documentation: https://pandas.pydata.org/pandas-docs/stable/user_guide/indexing.html#returning-a-view-versus-a-copy\n",
      "  data[\"norm\"] = data[\"norm\"].str.replace(\"c\", coptic_c)\n",
      "/tmp/ipykernel_3457371/2663060917.py:26: SettingWithCopyWarning: \n",
      "A value is trying to be set on a copy of a slice from a DataFrame.\n",
      "Try using .loc[row_indexer,col_indexer] = value instead\n",
      "\n",
      "See the caveats in the documentation: https://pandas.pydata.org/pandas-docs/stable/user_guide/indexing.html#returning-a-view-versus-a-copy\n",
      "  data[\"norm_group\"] = data[\"norm_group\"].str.replace(\"c\", coptic_c)\n",
      "/tmp/ipykernel_3457371/2663060917.py:29: SettingWithCopyWarning: \n",
      "A value is trying to be set on a copy of a slice from a DataFrame.\n",
      "Try using .loc[row_indexer,col_indexer] = value instead\n",
      "\n",
      "See the caveats in the documentation: https://pandas.pydata.org/pandas-docs/stable/user_guide/indexing.html#returning-a-view-versus-a-copy\n",
      "  data[\"norm\"] = data[\"norm\"].str.replace(\"z\", coptic_z)\n",
      "/tmp/ipykernel_3457371/2663060917.py:30: SettingWithCopyWarning: \n",
      "A value is trying to be set on a copy of a slice from a DataFrame.\n",
      "Try using .loc[row_indexer,col_indexer] = value instead\n",
      "\n",
      "See the caveats in the documentation: https://pandas.pydata.org/pandas-docs/stable/user_guide/indexing.html#returning-a-view-versus-a-copy\n",
      "  data[\"norm_group\"] = data[\"norm_group\"].str.replace(\"z\", coptic_z)\n",
      "/tmp/ipykernel_3457371/2663060917.py:33: SettingWithCopyWarning: \n",
      "A value is trying to be set on a copy of a slice from a DataFrame.\n",
      "Try using .loc[row_indexer,col_indexer] = value instead\n",
      "\n",
      "See the caveats in the documentation: https://pandas.pydata.org/pandas-docs/stable/user_guide/indexing.html#returning-a-view-versus-a-copy\n",
      "  data[\"norm\"] = data[\"norm\"].str.replace(\"e\", coptic_e)\n",
      "/tmp/ipykernel_3457371/2663060917.py:34: SettingWithCopyWarning: \n",
      "A value is trying to be set on a copy of a slice from a DataFrame.\n",
      "Try using .loc[row_indexer,col_indexer] = value instead\n",
      "\n",
      "See the caveats in the documentation: https://pandas.pydata.org/pandas-docs/stable/user_guide/indexing.html#returning-a-view-versus-a-copy\n",
      "  data[\"norm_group\"] = data[\"norm_group\"].str.replace(\"e\", coptic_e)\n"
     ]
    },
    {
     "data": {
      "text/plain": [
       "16"
      ]
     },
     "execution_count": 35,
     "metadata": {},
     "output_type": "execute_result"
    }
   ],
   "source": [
    "# replace english o with coptic o in norm and norm_group\n",
    "coptic_o = 'ⲟ'\n",
    "print(\"norms changed:\")\n",
    "print(data[data[\"norm\"].str.contains(\"o\")][\"norm\"])\n",
    "data[\"norm\"] = data[\"norm\"].str.replace(\"o\", coptic_o)\n",
    "data[\"norm_group\"] = data[\"norm_group\"].str.replace(\"o\", coptic_o)\n",
    "\n",
    "coptic_i = 'ⲓ'\n",
    "data[\"norm\"] = data[\"norm\"].str.replace(\"i\", coptic_i)\n",
    "data[\"norm_group\"] = data[\"norm_group\"].str.replace(\"i\", coptic_i)\n",
    "\n",
    "coptic_a = 'ⲁ'\n",
    "data[\"norm\"] = data[\"norm\"].str.replace(\"a\", coptic_a)\n",
    "data[\"norm_group\"] = data[\"norm_group\"].str.replace(\"a\", coptic_a)\n",
    "\n",
    "coptic_n = 'ⲛ'\n",
    "data[\"norm\"] = data[\"norm\"].str.replace(\"n\", coptic_n)\n",
    "data[\"norm_group\"] = data[\"norm_group\"].str.replace(\"n\", coptic_n)\n",
    "\n",
    "coptic_l = 'ⲗ'\n",
    "data[\"norm\"] = data[\"norm\"].str.replace(\"l\", coptic_l)\n",
    "data[\"norm_group\"] = data[\"norm_group\"].str.replace(\"l\", coptic_l)\n",
    "\n",
    "coptic_c = 'ⲥ'\n",
    "data[\"norm\"] = data[\"norm\"].str.replace(\"c\", coptic_c)\n",
    "data[\"norm_group\"] = data[\"norm_group\"].str.replace(\"c\", coptic_c)\n",
    "\n",
    "coptic_z = 'ⲍ'\n",
    "data[\"norm\"] = data[\"norm\"].str.replace(\"z\", coptic_z)\n",
    "data[\"norm_group\"] = data[\"norm_group\"].str.replace(\"z\", coptic_z)\n",
    "\n",
    "coptic_e = 'ⲉ'\n",
    "data[\"norm\"] = data[\"norm\"].str.replace(\"e\", coptic_e)\n",
    "data[\"norm_group\"] = data[\"norm_group\"].str.replace(\"e\", coptic_e)\n",
    "\n",
    "len(get_invalid(data))"
   ]
  },
  {
   "cell_type": "code",
   "execution_count": 215,
   "metadata": {},
   "outputs": [
    {
     "name": "stdout",
     "output_type": "stream",
     "text": [
      "0\n",
      "33297\n"
     ]
    }
   ],
   "source": [
    "# remove remaining invalid norms\n",
    "data = data[~data[\"norm\"].apply(invalid)]\n",
    "print(len(get_invalid(data)))\n",
    "print(len(data))\n"
   ]
  },
  {
   "cell_type": "code",
   "execution_count": 216,
   "metadata": {},
   "outputs": [
    {
     "name": "stdout",
     "output_type": "stream",
     "text": [
      "33273\n"
     ]
    }
   ],
   "source": [
    "# remove rows with no alphanumeric characters in norm\n",
    "data = parse_data.filter_no_text_cols(data, ['norm', 'norm_group'])\n",
    "print(len(data))"
   ]
  },
  {
   "cell_type": "code",
   "execution_count": 217,
   "metadata": {},
   "outputs": [],
   "source": [
    "data.to_csv(\"datasets/data.csv\")"
   ]
  },
  {
   "cell_type": "markdown",
   "metadata": {},
   "source": [
    "### Cleaning resulting data for translation"
   ]
  },
  {
   "cell_type": "code",
   "execution_count": 218,
   "metadata": {},
   "outputs": [
    {
     "data": {
      "text/plain": [
       "33273"
      ]
     },
     "execution_count": 218,
     "metadata": {},
     "output_type": "execute_result"
    }
   ],
   "source": [
    "data = pd.read_csv(\"datasets/data.csv\")\n",
    "len(data)"
   ]
  },
  {
   "cell_type": "code",
   "execution_count": 219,
   "metadata": {},
   "outputs": [
    {
     "data": {
      "text/plain": [
       "33273"
      ]
     },
     "execution_count": 219,
     "metadata": {},
     "output_type": "execute_result"
    }
   ],
   "source": [
    "data = parse_data.filter_verses(data)\n",
    "len(data)"
   ]
  },
  {
   "cell_type": "code",
   "execution_count": 220,
   "metadata": {},
   "outputs": [
    {
     "data": {
      "text/plain": [
       "33273"
      ]
     },
     "execution_count": 220,
     "metadata": {},
     "output_type": "execute_result"
    }
   ],
   "source": [
    "data = parse_data.fix_periods(data)\n",
    "len(data)"
   ]
  },
  {
   "cell_type": "code",
   "execution_count": 221,
   "metadata": {},
   "outputs": [
    {
     "data": {
      "text/plain": [
       "33234"
      ]
     },
     "execution_count": 221,
     "metadata": {},
     "output_type": "execute_result"
    }
   ],
   "source": [
    "data = parse_data.filter_bracketed_periods(data)\n",
    "len(data)"
   ]
  },
  {
   "cell_type": "code",
   "execution_count": 222,
   "metadata": {},
   "outputs": [
    {
     "name": "stderr",
     "output_type": "stream",
     "text": [
      "/mnt/storage/maxenis/coptic-machine-translation/parse_data.py:67: UserWarning: This pattern is interpreted as a regular expression, and has match groups. To actually get the groups, use str.extract.\n",
      "  df[\"norm_group\"] = df[\"norm_group\"].str.replace(pattern, '', regex=True)\n"
     ]
    },
    {
     "data": {
      "text/plain": [
       "32536"
      ]
     },
     "execution_count": 222,
     "metadata": {},
     "output_type": "execute_result"
    }
   ],
   "source": [
    "data = parse_data.filter_dots_and_ellipsis(data)\n",
    "len(data)"
   ]
  },
  {
   "cell_type": "code",
   "execution_count": 223,
   "metadata": {},
   "outputs": [
    {
     "data": {
      "text/plain": [
       "32536"
      ]
     },
     "execution_count": 223,
     "metadata": {},
     "output_type": "execute_result"
    }
   ],
   "source": [
    "data = parse_data.replace_dots_and_ellipsis(data)\n",
    "data = parse_data.remove_bullshit(data, [\"norm\", \"norm_group\"])\n",
    "data = parse_data.drop_empty(data, [\"norm\", \"norm_group\"])\n",
    "data = parse_data.unnormalize(data)\n",
    "\n",
    "len(data)"
   ]
  },
  {
   "cell_type": "code",
   "execution_count": 225,
   "metadata": {},
   "outputs": [],
   "source": [
    "data = data.reset_index()"
   ]
  },
  {
   "cell_type": "code",
   "execution_count": 226,
   "metadata": {},
   "outputs": [],
   "source": [
    "cop_cols = [\"norm\", \"norm_group\", \"unnormalized\"]\n",
    "for column in cop_cols:\n",
    "    if column + \"_romanized\" in data.columns:\n",
    "        data = data.drop(columns=[column])\n",
    "\n",
    "data = parse_data.romanize_columns(data, cop_cols)"
   ]
  },
  {
   "cell_type": "code",
   "execution_count": 227,
   "metadata": {},
   "outputs": [
    {
     "data": {
      "text/plain": [
       "norm                      ⲁⲗⲗⲁ ⲛ ⲧ ϩⲉ ⲙ ⲡⲓ ⲟⲩⲟⲉⲓϣ ⲉⲛⲧ ⲁ ⲡⲉ ϫⲡⲟ ⲕⲁⲧⲁ ⲥⲁⲣⲝ...\n",
       "norm_group                ⲁⲗⲗⲁ ⲛⲧϩⲉ ⲙⲡⲓⲟⲩⲟⲉⲓϣ ⲉⲛⲧⲁⲡⲉϫⲡⲟ ⲕⲁⲧⲁⲥⲁⲣⲝ ⲡⲱⲧ ⲛⲥⲁ...\n",
       "norm_romanized            alla n t heie m piau ouaoeieiaush eient a peie...\n",
       "unnormalized              ⲁⲗⲗⲁⲛⲧϩⲉⲙⲡⲓⲟⲩⲟⲉⲓϣⲉⲛⲧⲁⲡⲉϫⲡⲟⲕⲁⲧⲁⲥⲁⲣⲝⲡⲱⲧⲛⲥⲁⲡⲕⲁⲧⲁⲡ...\n",
       "unnormalized_romanized    allantheiempiauouaoeieiausheientapeiegpokatasa...\n",
       "Name: 30000, dtype: object"
      ]
     },
     "execution_count": 227,
     "metadata": {},
     "output_type": "execute_result"
    }
   ],
   "source": [
    "data.iloc[30000][[\"norm\", \"norm_group\", \"norm_romanized\", \"unnormalized\", \"unnormalized_romanized\"]]"
   ]
  },
  {
   "cell_type": "code",
   "execution_count": 228,
   "metadata": {},
   "outputs": [],
   "source": [
    "data = parse_data.greekify_columns(data, [\"norm\", \"norm_group\", \"unnormalized\"])"
   ]
  },
  {
   "cell_type": "code",
   "execution_count": 229,
   "metadata": {},
   "outputs": [],
   "source": [
    "data = data.drop(\"index\", axis=1)"
   ]
  },
  {
   "cell_type": "code",
   "execution_count": 230,
   "metadata": {},
   "outputs": [
    {
     "data": {
      "text/html": [
       "<div>\n",
       "<style scoped>\n",
       "    .dataframe tbody tr th:only-of-type {\n",
       "        vertical-align: middle;\n",
       "    }\n",
       "\n",
       "    .dataframe tbody tr th {\n",
       "        vertical-align: top;\n",
       "    }\n",
       "\n",
       "    .dataframe thead th {\n",
       "        text-align: right;\n",
       "    }\n",
       "</style>\n",
       "<table border=\"1\" class=\"dataframe\">\n",
       "  <thead>\n",
       "    <tr style=\"text-align: right;\">\n",
       "      <th></th>\n",
       "      <th>eng</th>\n",
       "      <th>norm_group</th>\n",
       "      <th>norm</th>\n",
       "      <th>func</th>\n",
       "      <th>pos</th>\n",
       "      <th>arabic</th>\n",
       "      <th>meta::translation</th>\n",
       "      <th>meta::title</th>\n",
       "      <th>unnormalized</th>\n",
       "      <th>norm_romanized</th>\n",
       "      <th>norm_group_romanized</th>\n",
       "      <th>unnormalized_romanized</th>\n",
       "      <th>norm_greekified</th>\n",
       "      <th>norm_group_greekified</th>\n",
       "      <th>unnormalized_greekified</th>\n",
       "    </tr>\n",
       "  </thead>\n",
       "  <tbody>\n",
       "    <tr>\n",
       "      <th>0</th>\n",
       "      <td>She labored to stop him, but she was not able to.</td>\n",
       "      <td>ⲛⲧⲟⲥ ⲇⲉ ⲁⲥϩⲓⲥⲉ ⲉⲥϣⲱϣⲧ ⲙⲙⲟϥ ⲙⲡⲉⲥϣϭⲙϭⲟⲙ ⲉⲣⲟϥ</td>\n",
       "      <td>ⲛⲧⲟⲥ ⲇⲉ ⲁ ⲥ ϩⲓⲥⲉ ⲉ ⲥ ϣⲱϣⲧ ⲙⲙⲟ ϥ ⲙⲡⲉ ⲥ ϣ ϭⲙϭⲟⲙ ...</td>\n",
       "      <td>dislocated advmod aux nsubj root mark nsubj ad...</td>\n",
       "      <td>PPERI PTC APST PPERS V CCIRC PPERS V PREP PPER...</td>\n",
       "      <td>أما هي فقد بذلت ما في وسعها لتعرقله ولم تقدر عليه</td>\n",
       "      <td>Christine Luckritz Marquis, Amir Zeldes</td>\n",
       "      <td>Apophthegmata Patrum Sahidic 001: Anonymous Na...</td>\n",
       "      <td>ⲛⲧⲟⲥⲇⲉⲁⲥϩⲓⲥⲉⲉⲥϣⲱϣⲧⲙⲙⲟϥⲙⲡⲉⲥϣϭⲙϭⲟⲙⲉⲣⲟϥ</td>\n",
       "      <td>ntos deie a s hiauseie eie s shoousht mmo f mp...</td>\n",
       "      <td>ntos deie ashiauseie eiesshoousht mmof mpeiess...</td>\n",
       "      <td>ntosdeieashiauseieeiesshooushtmmofmpeiesshshms...</td>\n",
       "      <td>ντοσ δε α σ hισε ε σ sωsτ μμο f μπε σ s cμcομ ...</td>\n",
       "      <td>ντοσ δε ασhισε εσsωsτ μμοf μπεσscμcομ εροf</td>\n",
       "      <td>ντοσδεασhισεεσsωsτμμοfμπεσscμcομεροf</td>\n",
       "    </tr>\n",
       "    <tr>\n",
       "      <th>1</th>\n",
       "      <td>Afterwards, she left him.</td>\n",
       "      <td>ⲙⲛⲛⲥⲱⲥ ⲁⲥⲕⲁⲁϥ ⲉⲃⲟⲗ .</td>\n",
       "      <td>ⲙⲛⲛⲥⲱ ⲥ ⲁ ⲥ ⲕⲁⲁ ϥ ⲉⲃⲟⲗ .</td>\n",
       "      <td>case obl aux nsubj root obj advmod punct</td>\n",
       "      <td>PREP PPERO APST PPERS V PPERO ADV PUNCT</td>\n",
       "      <td>بعد ذلك تركته</td>\n",
       "      <td>Christine Luckritz Marquis, Amir Zeldes</td>\n",
       "      <td>Apophthegmata Patrum Sahidic 001: Anonymous Na...</td>\n",
       "      <td>ⲙⲛⲛⲥⲱⲥⲁⲥⲕⲁⲁϥⲉⲃⲟⲗ</td>\n",
       "      <td>mnnsoou s a s kaa f eievol .</td>\n",
       "      <td>mnnsoous askaaf eievol .</td>\n",
       "      <td>mnnsoousaskaafeievol</td>\n",
       "      <td>μννσω σ α σ καα f εβολ .</td>\n",
       "      <td>μννσωσ ασκααf εβολ .</td>\n",
       "      <td>μννσωσασκααfεβολ</td>\n",
       "    </tr>\n",
       "    <tr>\n",
       "      <th>2</th>\n",
       "      <td>When he had gone and become a monk, he became ...</td>\n",
       "      <td>ⲛⲧⲉⲣⲉϥⲃⲱⲕ ⲇⲉ ⲛϥⲣⲙⲟⲛⲁⲭⲟⲥ ⲁϥϣⲱⲡⲉ ϩⲛⲟⲩⲁⲙⲉⲗⲓⲁ . ⲁⲩ...</td>\n",
       "      <td>ⲛⲧⲉⲣⲉ ϥ ⲃⲱⲕ ⲇⲉ ⲛ ϥ ⲣⲙⲟⲛⲁⲭⲟⲥ ⲁ ϥ ϣⲱⲡⲉ ϩⲛ ⲟⲩ ⲁⲙⲉ...</td>\n",
       "      <td>aux nsubj advcl advmod aux nsubj advcl aux nsu...</td>\n",
       "      <td>APREC PPERS V PTC ACONJ PPERS V APST PPERS V P...</td>\n",
       "      <td>ولما ذهب وترهبن صار في توانٍ وقضى حياته في الشر</td>\n",
       "      <td>Christine Luckritz Marquis, Amir Zeldes</td>\n",
       "      <td>Apophthegmata Patrum Sahidic 001: Anonymous Na...</td>\n",
       "      <td>ⲛⲧⲉⲣⲉϥⲃⲱⲕⲇⲉⲛϥⲣⲙⲟⲛⲁⲭⲟⲥⲁϥϣⲱⲡⲉϩⲛⲟⲩⲁⲙⲉⲗⲓⲁⲁⲩⲱⲁϥϫⲉⲡⲉ...</td>\n",
       "      <td>nteiereie f voouk deie n f rmonakhos a f shoou...</td>\n",
       "      <td>nteiereiefvoouk deie nfrmonakhos afshooupeie h...</td>\n",
       "      <td>nteiereiefvooukdeienfrmonakhosafshooupeiehnoua...</td>\n",
       "      <td>ντερε f βωκ δε ν f ρμοναχοσ α f sωπε hν ου αμε...</td>\n",
       "      <td>ντερεfβωκ δε νfρμοναχοσ αfsωπε hνουαμελια . αυ...</td>\n",
       "      <td>ντερεfβωκδενfρμοναχοσαfsωπεhνουαμελιααυωαfjεπε...</td>\n",
       "    </tr>\n",
       "    <tr>\n",
       "      <th>3</th>\n",
       "      <td>And it happened, when his mother had died, aft...</td>\n",
       "      <td>ⲁⲥϣⲱⲡⲉ ⲇⲉ ⲛⲧⲉⲣⲉⲧⲉϥⲙⲁⲁⲩ ⲙⲟⲩ . ⲙⲛⲛⲥⲁⲟⲩⲟⲉⲓϣ ⲇⲉ ⲁϥ...</td>\n",
       "      <td>ⲁ ⲥ ϣⲱⲡⲉ ⲇⲉ ⲛⲧⲉⲣⲉ ⲧⲉϥ ⲙⲁⲁⲩ ⲙⲟⲩ . ⲙⲛⲛⲥⲁ ⲟⲩⲟⲉⲓϣ ...</td>\n",
       "      <td>aux nsubj root advmod aux det nsubj advcl punc...</td>\n",
       "      <td>APST PPERS V PTC APREC PPOS N V PUNCT PREP N P...</td>\n",
       "      <td>وحدث لما توفت أمه، بعد وقت قليل  أن مرض مرضاً ...</td>\n",
       "      <td>Christine Luckritz Marquis, Amir Zeldes</td>\n",
       "      <td>Apophthegmata Patrum Sahidic 001: Anonymous Na...</td>\n",
       "      <td>ⲁⲥϣⲱⲡⲉⲇⲉⲛⲧⲉⲣⲉⲧⲉϥⲙⲁⲁⲩⲙⲟⲩⲙⲛⲛⲥⲁⲟⲩⲟⲉⲓϣⲇⲉⲁϥϣⲱⲛⲉϩⲛⲟⲩ...</td>\n",
       "      <td>a s shooupeie deie nteiereie teief maaua moua ...</td>\n",
       "      <td>asshooupeie deie nteiereieteiefmaaua moua . mn...</td>\n",
       "      <td>asshooupeiedeienteiereieteiefmaauamouamnnsaoua...</td>\n",
       "      <td>α σ sωπε δε ντερε τεf μααυ μου . μννσα ουοειs ...</td>\n",
       "      <td>ασsωπε δε ντερετεfμααυ μου . μννσαουοειs δε αf...</td>\n",
       "      <td>ασsωπεδεντερετεfμααυμουμννσαουοειsδεαfsωνεhνου...</td>\n",
       "    </tr>\n",
       "    <tr>\n",
       "      <th>4</th>\n",
       "      <td>And there he found his mother and those who ju...</td>\n",
       "      <td>ⲁⲩⲱ ⲁϥϭⲓⲛⲉ ⲛⲧⲉϥⲙⲁⲁⲩ ⲙⲙⲁⲩ ⲙⲛⲛⲉⲧⲟⲩⲕⲣⲓⲛⲉ ⲙⲙⲟⲟⲩ .</td>\n",
       "      <td>ⲁⲩⲱ ⲁ ϥ ϭⲓⲛⲉ ⲛ ⲧⲉϥ ⲙⲁⲁⲩ ⲙⲙⲁⲩ ⲙⲛ ⲛ ⲉⲧ ⲟⲩ ⲕⲣⲓⲛⲉ ...</td>\n",
       "      <td>cc aux nsubj root case det obj advmod cc conj ...</td>\n",
       "      <td>CONJ APST PPERS V PREP PPOS N ADV PREP ART CRE...</td>\n",
       "      <td>ووجد هناك أمه مع من يقومون بالقضاء</td>\n",
       "      <td>Christine Luckritz Marquis, Amir Zeldes</td>\n",
       "      <td>Apophthegmata Patrum Sahidic 001: Anonymous Na...</td>\n",
       "      <td>ⲁⲩⲱⲁϥϭⲓⲛⲉⲛⲧⲉϥⲙⲁⲁⲩⲙⲙⲁⲩⲙⲛⲛⲉⲧⲟⲩⲕⲣⲓⲛⲉⲙⲙⲟⲟⲩ</td>\n",
       "      <td>auaoou a f shiauneie n teief maaua mmaua mn n ...</td>\n",
       "      <td>auaoou afshiauneie nteiefmaaua mmaua mnneietou...</td>\n",
       "      <td>auaoouafshiauneienteiefmaauammauamnneietouakri...</td>\n",
       "      <td>αυω α f cινε ν τεf μααυ μμαυ μν ν ετ ου κρινε ...</td>\n",
       "      <td>αυω αfcινε ντεfμααυ μμαυ μννετουκρινε μμοου .</td>\n",
       "      <td>αυωαfcινεντεfμααυμμαυμννετουκρινεμμοου</td>\n",
       "    </tr>\n",
       "    <tr>\n",
       "      <th>...</th>\n",
       "      <td>...</td>\n",
       "      <td>...</td>\n",
       "      <td>...</td>\n",
       "      <td>...</td>\n",
       "      <td>...</td>\n",
       "      <td>...</td>\n",
       "      <td>...</td>\n",
       "      <td>...</td>\n",
       "      <td>...</td>\n",
       "      <td>...</td>\n",
       "      <td>...</td>\n",
       "      <td>...</td>\n",
       "      <td>...</td>\n",
       "      <td>...</td>\n",
       "      <td>...</td>\n",
       "    </tr>\n",
       "    <tr>\n",
       "      <th>32531</th>\n",
       "      <td>For the people of God in this time —Israel— ar...</td>\n",
       "      <td>ⲡⲗⲁⲟⲥ ϥⲁⲣ ⲙⲡⲛⲟⲩⲧⲉ ⲙⲡⲉⲓⲟⲩⲟⲉⲓϣ ⲡⲓⲥⲣⲁⲏⲗ ⲉϥⲧⲏϣ ⲛⲧⲉ...</td>\n",
       "      <td>ⲡ ⲗⲁⲟⲥ ⲅⲁⲣ ⲙ ⲡ ⲛⲟⲩⲧⲉ ⲙ ⲡⲉⲓ ⲟⲩⲟⲉⲓϣ ⲡ ⲓⲥⲣⲁⲏⲗ ⲉ ϥ...</td>\n",
       "      <td>det root advmod case det nmod case det nmod de...</td>\n",
       "      <td>ART N PART PREP ART N PREP PDEM N ART NPROP CC...</td>\n",
       "      <td>NaN</td>\n",
       "      <td>Caroline T. Schroeder, Amir Zeldes</td>\n",
       "      <td>God Who Alone Is True BV 119-122</td>\n",
       "      <td>ⲡⲗⲁⲟⲥⲅⲁⲣⲙⲡⲛⲟⲩⲧⲉⲙⲡⲉⲓⲟⲩⲟⲉⲓϣⲡⲓⲥⲣⲁⲏⲗⲉϥⲧⲏϣⲛⲧⲉⲓϩⲉⲉⲩⲁ...</td>\n",
       "      <td>p laos gar m p nouateie m peieiau ouaoeieiaush...</td>\n",
       "      <td>plaos far mpnouateie mpeieiauouaoeieiaush piau...</td>\n",
       "      <td>plaosgarmpnouateiempeieiauouaoeieiaushpiausrah...</td>\n",
       "      <td>π λαοσ γαρ μ π νουτε μ πει ουοειs π ισραηλ ε f...</td>\n",
       "      <td>πλαοσ fαρ μπνουτε μπειουοειs πισραηλ εfτηs ντε...</td>\n",
       "      <td>πλαοσγαρμπνουτεμπειουοειsπισραηλεfτηsντειhεευα...</td>\n",
       "    </tr>\n",
       "    <tr>\n",
       "      <th>32532</th>\n",
       "      <td>If this matter does not please the proud perso...</td>\n",
       "      <td>ⲉϣϫⲉ ⲡⲉⲓϩⲱⲃ ϭⲉ ⲁⲣⲉⲥⲕⲉ ⲁⲛ ⲙⲡⲣⲱⲙⲉ ⲛϣⲟⲩϣⲟⲩ ⲙⲁⲣⲉϥⲣ...</td>\n",
       "      <td>ⲉϣϫⲉ ⲡⲉⲓ ϩⲱⲃ ϭⲉ ⲁⲣⲉⲥⲕⲉ ⲁⲛ ⲙ ⲡ ⲣⲱⲙⲉ ⲛ ϣⲟⲩϣⲟⲩ ⲙⲁ...</td>\n",
       "      <td>mark det nsubj advmod advcl advmod case det ob...</td>\n",
       "      <td>CONJ PDEM N PTC V NEG PREP ART N PREP N AJUS P...</td>\n",
       "      <td>NaN</td>\n",
       "      <td>Caroline T. Schroeder, Amir Zeldes</td>\n",
       "      <td>God Who Alone Is True BV 119-122</td>\n",
       "      <td>ⲉϣϫⲉⲡⲉⲓϩⲱⲃϭⲉⲁⲣⲉⲥⲕⲉⲁⲛⲙⲡⲣⲱⲙⲉⲛϣⲟⲩϣⲟⲩⲙⲁⲣⲉϥⲣⲡⲙⲉⲉⲩⲉϫ...</td>\n",
       "      <td>eieshgeie peieiau hoouv sheie areieskeie an m ...</td>\n",
       "      <td>eieshgeie peieiauhoouv sheie areieskeie an mpr...</td>\n",
       "      <td>eieshgeiepeieiauhoouvsheieareieskeieanmprooume...</td>\n",
       "      <td>εsjε πει hωβ cε αρεσκε αν μ π ρωμε ν sουsου μα...</td>\n",
       "      <td>εsjε πειhωβ cε αρεσκε αν μπρωμε νsουsου μαρεfρ...</td>\n",
       "      <td>εsjεπειhωβcεαρεσκεανμπρωμενsουsουμαρεfρπμεευεj...</td>\n",
       "    </tr>\n",
       "    <tr>\n",
       "      <th>32533</th>\n",
       "      <td>And they speak with the people who came, and t...</td>\n",
       "      <td>ⲛⲥⲉϣⲁϫⲉ ⲙⲛⲛⲣⲱⲙⲉ ⲛⲧⲁⲩⲉⲓ ⲁⲩⲱ ⲛⲥⲉϥⲓⲡⲉⲩⲣⲟⲟⲩϣ ϩⲛϩⲱⲃ...</td>\n",
       "      <td>ⲛ ⲥⲉ ϣⲁϫⲉ ⲙⲛ ⲛ ⲣⲱⲙⲉ ⲛⲧ ⲁ ⲩ ⲉⲓ ⲁⲩⲱ ⲛ ⲥⲉ ϥⲓ ⲡⲉⲩ ...</td>\n",
       "      <td>aux nsubj root case det obl mark aux nsubj acl...</td>\n",
       "      <td>ACONJ PPERS V PREP ART N CREL APST PPERS V CON...</td>\n",
       "      <td>NaN</td>\n",
       "      <td>Caroline T. Schroeder, Amir Zeldes</td>\n",
       "      <td>God Who Alone Is True BV 119-122</td>\n",
       "      <td>ⲛⲥⲉϣⲁϫⲉⲙⲛⲛⲣⲱⲙⲉⲛⲧⲁⲩⲉⲓⲁⲩⲱⲛⲥⲉϥⲓⲡⲉⲩⲣⲟⲟⲩϣϩⲛϩⲱⲃⲛⲓⲙⲙⲛ...</td>\n",
       "      <td>n seie shageie mn n rooumeie nt a ua eieiau au...</td>\n",
       "      <td>nseieshageie mnnrooumeie ntauaeieiau auaoou ns...</td>\n",
       "      <td>nseieshageiemnnrooumeientauaeieiauauaoounseief...</td>\n",
       "      <td>ν σε sαjε μν ν ρωμε ντ α υ ει αυω ν σε fι πευ ...</td>\n",
       "      <td>νσεsαjε μννρωμε νταυει αυω νσεfιπευροουs hνhωβ...</td>\n",
       "      <td>νσεsαjεμννρωμενταυειαυωνσεfιπευροουshνhωβνιμμν...</td>\n",
       "    </tr>\n",
       "    <tr>\n",
       "      <th>32534</th>\n",
       "      <td>And the way that I will appoint them to it tog...</td>\n",
       "      <td>ⲁⲩⲱ ⲧϩⲉ ⲉⲧⲓⲛⲁⲧⲟϣⲟⲩ ⲙⲙⲟⲥ ⲛϩⲟⲥⲟⲛ ⲉⲓⲟⲛϩ ⲉⲩⲛⲁⲁⲁⲥ ⲛ...</td>\n",
       "      <td>ⲁⲩⲱ ⲧ ϩⲉ ⲉⲧ ⲓ ⲛⲁ ⲧⲟϣ ⲟⲩ ⲙⲙⲟ ⲥ ⲛ ϩⲟⲥⲟⲛ ⲉ ⲓ ⲟⲛϩ ...</td>\n",
       "      <td>cc det root mark nsubj aux acl:relcl obj case ...</td>\n",
       "      <td>CONJ ART N CREL PPERS FUT V PPERO PREP PPERO P...</td>\n",
       "      <td>NaN</td>\n",
       "      <td>Caroline T. Schroeder, Amir Zeldes</td>\n",
       "      <td>God Who Alone Is True BV 119-122</td>\n",
       "      <td>ⲁⲩⲱⲧϩⲉⲉⲧⲓⲛⲁⲧⲟϣⲟⲩⲙⲙⲟⲥⲛϩⲟⲥⲟⲛⲉⲓⲟⲛϩⲉⲩⲛⲁⲁⲁⲥⲛⲟⲩⲟⲉⲓϣⲛⲓⲙ</td>\n",
       "      <td>auaoou t heie eiet iau na tosh oua mmo s n hos...</td>\n",
       "      <td>auaoou theie eietiaunatoshoua mmos nhoson eiei...</td>\n",
       "      <td>auaooutheieeietiaunatoshouammosnhosoneieiauonh...</td>\n",
       "      <td>αυω τ hε ετ ι να τοs ου μμο σ ν hοσον ε ι ονh ...</td>\n",
       "      <td>αυω τhε ετινατοsου μμοσ νhοσον ειονh ευνααασ ν...</td>\n",
       "      <td>αυωτhεετινατοsουμμοσνhοσονειονhευνααασνουοειsνιμ</td>\n",
       "    </tr>\n",
       "    <tr>\n",
       "      <th>32535</th>\n",
       "      <td>And it shall not be said to them, 'Each one wi...</td>\n",
       "      <td>ⲁⲩⲱ ⲉⲩⲛⲁϫⲟⲟⲥ ⲁⲛ ⲉⲣⲟⲟⲩ ϫⲉⲉⲣⲉⲡⲟⲩⲁ ⲡⲟⲩⲁ ⲛⲁϯⲗⲟⲅⲟⲥ ...</td>\n",
       "      <td>ⲁⲩⲱ ⲉ ⲩ ⲛⲁ ϫⲟⲟ ⲥ ⲁⲛ ⲉⲣⲟ ⲟⲩ ϫⲉ ⲉⲣⲉ ⲡ ⲟⲩⲁ ⲡ ⲟⲩⲁ ...</td>\n",
       "      <td>cc mark nsubj aux root obj advmod case obl mar...</td>\n",
       "      <td>CONJ CFOC PPERS FUT V PPERO NEG PREP PPERO CON...</td>\n",
       "      <td>NaN</td>\n",
       "      <td>Caroline T. Schroeder, Amir Zeldes</td>\n",
       "      <td>God Who Alone Is True BV 119-122</td>\n",
       "      <td>ⲁⲩⲱⲉⲩⲛⲁϫⲟⲟⲥⲁⲛⲉⲣⲟⲟⲩϫⲉⲉⲣⲉⲡⲟⲩⲁⲡⲟⲩⲁⲛⲁϯⲗⲟⲅⲟⲥϩⲁⲣⲟϥⲙⲡ...</td>\n",
       "      <td>auaoou eie ua na goo s an eiero oua geie eiere...</td>\n",
       "      <td>auaoou eieuanagoos an eierooua geieeiereiepoua...</td>\n",
       "      <td>auaooueieuanagoosaneieroouageieeiereiepouaapou...</td>\n",
       "      <td>αυω ε υ να jοο σ αν ερο ου jε ερε π ουα π ουα ...</td>\n",
       "      <td>αυω ευναjοοσ αν εροου jεερεπουα πουα ναtλογοσ ...</td>\n",
       "      <td>αυωευναjοοσανεροουjεερεπουαπουαναtλογοσhαροfμπ...</td>\n",
       "    </tr>\n",
       "  </tbody>\n",
       "</table>\n",
       "<p>32536 rows × 15 columns</p>\n",
       "</div>"
      ],
      "text/plain": [
       "                                                     eng  \\\n",
       "0      She labored to stop him, but she was not able to.   \n",
       "1                              Afterwards, she left him.   \n",
       "2      When he had gone and become a monk, he became ...   \n",
       "3      And it happened, when his mother had died, aft...   \n",
       "4      And there he found his mother and those who ju...   \n",
       "...                                                  ...   \n",
       "32531  For the people of God in this time —Israel— ar...   \n",
       "32532  If this matter does not please the proud perso...   \n",
       "32533  And they speak with the people who came, and t...   \n",
       "32534  And the way that I will appoint them to it tog...   \n",
       "32535  And it shall not be said to them, 'Each one wi...   \n",
       "\n",
       "                                              norm_group  \\\n",
       "0             ⲛⲧⲟⲥ ⲇⲉ ⲁⲥϩⲓⲥⲉ ⲉⲥϣⲱϣⲧ ⲙⲙⲟϥ ⲙⲡⲉⲥϣϭⲙϭⲟⲙ ⲉⲣⲟϥ   \n",
       "1                                   ⲙⲛⲛⲥⲱⲥ ⲁⲥⲕⲁⲁϥ ⲉⲃⲟⲗ .   \n",
       "2      ⲛⲧⲉⲣⲉϥⲃⲱⲕ ⲇⲉ ⲛϥⲣⲙⲟⲛⲁⲭⲟⲥ ⲁϥϣⲱⲡⲉ ϩⲛⲟⲩⲁⲙⲉⲗⲓⲁ . ⲁⲩ...   \n",
       "3      ⲁⲥϣⲱⲡⲉ ⲇⲉ ⲛⲧⲉⲣⲉⲧⲉϥⲙⲁⲁⲩ ⲙⲟⲩ . ⲙⲛⲛⲥⲁⲟⲩⲟⲉⲓϣ ⲇⲉ ⲁϥ...   \n",
       "4          ⲁⲩⲱ ⲁϥϭⲓⲛⲉ ⲛⲧⲉϥⲙⲁⲁⲩ ⲙⲙⲁⲩ ⲙⲛⲛⲉⲧⲟⲩⲕⲣⲓⲛⲉ ⲙⲙⲟⲟⲩ .   \n",
       "...                                                  ...   \n",
       "32531  ⲡⲗⲁⲟⲥ ϥⲁⲣ ⲙⲡⲛⲟⲩⲧⲉ ⲙⲡⲉⲓⲟⲩⲟⲉⲓϣ ⲡⲓⲥⲣⲁⲏⲗ ⲉϥⲧⲏϣ ⲛⲧⲉ...   \n",
       "32532  ⲉϣϫⲉ ⲡⲉⲓϩⲱⲃ ϭⲉ ⲁⲣⲉⲥⲕⲉ ⲁⲛ ⲙⲡⲣⲱⲙⲉ ⲛϣⲟⲩϣⲟⲩ ⲙⲁⲣⲉϥⲣ...   \n",
       "32533  ⲛⲥⲉϣⲁϫⲉ ⲙⲛⲛⲣⲱⲙⲉ ⲛⲧⲁⲩⲉⲓ ⲁⲩⲱ ⲛⲥⲉϥⲓⲡⲉⲩⲣⲟⲟⲩϣ ϩⲛϩⲱⲃ...   \n",
       "32534  ⲁⲩⲱ ⲧϩⲉ ⲉⲧⲓⲛⲁⲧⲟϣⲟⲩ ⲙⲙⲟⲥ ⲛϩⲟⲥⲟⲛ ⲉⲓⲟⲛϩ ⲉⲩⲛⲁⲁⲁⲥ ⲛ...   \n",
       "32535  ⲁⲩⲱ ⲉⲩⲛⲁϫⲟⲟⲥ ⲁⲛ ⲉⲣⲟⲟⲩ ϫⲉⲉⲣⲉⲡⲟⲩⲁ ⲡⲟⲩⲁ ⲛⲁϯⲗⲟⲅⲟⲥ ...   \n",
       "\n",
       "                                                    norm  \\\n",
       "0      ⲛⲧⲟⲥ ⲇⲉ ⲁ ⲥ ϩⲓⲥⲉ ⲉ ⲥ ϣⲱϣⲧ ⲙⲙⲟ ϥ ⲙⲡⲉ ⲥ ϣ ϭⲙϭⲟⲙ ...   \n",
       "1                               ⲙⲛⲛⲥⲱ ⲥ ⲁ ⲥ ⲕⲁⲁ ϥ ⲉⲃⲟⲗ .   \n",
       "2      ⲛⲧⲉⲣⲉ ϥ ⲃⲱⲕ ⲇⲉ ⲛ ϥ ⲣⲙⲟⲛⲁⲭⲟⲥ ⲁ ϥ ϣⲱⲡⲉ ϩⲛ ⲟⲩ ⲁⲙⲉ...   \n",
       "3      ⲁ ⲥ ϣⲱⲡⲉ ⲇⲉ ⲛⲧⲉⲣⲉ ⲧⲉϥ ⲙⲁⲁⲩ ⲙⲟⲩ . ⲙⲛⲛⲥⲁ ⲟⲩⲟⲉⲓϣ ...   \n",
       "4      ⲁⲩⲱ ⲁ ϥ ϭⲓⲛⲉ ⲛ ⲧⲉϥ ⲙⲁⲁⲩ ⲙⲙⲁⲩ ⲙⲛ ⲛ ⲉⲧ ⲟⲩ ⲕⲣⲓⲛⲉ ...   \n",
       "...                                                  ...   \n",
       "32531  ⲡ ⲗⲁⲟⲥ ⲅⲁⲣ ⲙ ⲡ ⲛⲟⲩⲧⲉ ⲙ ⲡⲉⲓ ⲟⲩⲟⲉⲓϣ ⲡ ⲓⲥⲣⲁⲏⲗ ⲉ ϥ...   \n",
       "32532  ⲉϣϫⲉ ⲡⲉⲓ ϩⲱⲃ ϭⲉ ⲁⲣⲉⲥⲕⲉ ⲁⲛ ⲙ ⲡ ⲣⲱⲙⲉ ⲛ ϣⲟⲩϣⲟⲩ ⲙⲁ...   \n",
       "32533  ⲛ ⲥⲉ ϣⲁϫⲉ ⲙⲛ ⲛ ⲣⲱⲙⲉ ⲛⲧ ⲁ ⲩ ⲉⲓ ⲁⲩⲱ ⲛ ⲥⲉ ϥⲓ ⲡⲉⲩ ...   \n",
       "32534  ⲁⲩⲱ ⲧ ϩⲉ ⲉⲧ ⲓ ⲛⲁ ⲧⲟϣ ⲟⲩ ⲙⲙⲟ ⲥ ⲛ ϩⲟⲥⲟⲛ ⲉ ⲓ ⲟⲛϩ ...   \n",
       "32535  ⲁⲩⲱ ⲉ ⲩ ⲛⲁ ϫⲟⲟ ⲥ ⲁⲛ ⲉⲣⲟ ⲟⲩ ϫⲉ ⲉⲣⲉ ⲡ ⲟⲩⲁ ⲡ ⲟⲩⲁ ...   \n",
       "\n",
       "                                                    func  \\\n",
       "0      dislocated advmod aux nsubj root mark nsubj ad...   \n",
       "1               case obl aux nsubj root obj advmod punct   \n",
       "2      aux nsubj advcl advmod aux nsubj advcl aux nsu...   \n",
       "3      aux nsubj root advmod aux det nsubj advcl punc...   \n",
       "4      cc aux nsubj root case det obj advmod cc conj ...   \n",
       "...                                                  ...   \n",
       "32531  det root advmod case det nmod case det nmod de...   \n",
       "32532  mark det nsubj advmod advcl advmod case det ob...   \n",
       "32533  aux nsubj root case det obl mark aux nsubj acl...   \n",
       "32534  cc det root mark nsubj aux acl:relcl obj case ...   \n",
       "32535  cc mark nsubj aux root obj advmod case obl mar...   \n",
       "\n",
       "                                                     pos  \\\n",
       "0      PPERI PTC APST PPERS V CCIRC PPERS V PREP PPER...   \n",
       "1                PREP PPERO APST PPERS V PPERO ADV PUNCT   \n",
       "2      APREC PPERS V PTC ACONJ PPERS V APST PPERS V P...   \n",
       "3      APST PPERS V PTC APREC PPOS N V PUNCT PREP N P...   \n",
       "4      CONJ APST PPERS V PREP PPOS N ADV PREP ART CRE...   \n",
       "...                                                  ...   \n",
       "32531  ART N PART PREP ART N PREP PDEM N ART NPROP CC...   \n",
       "32532  CONJ PDEM N PTC V NEG PREP ART N PREP N AJUS P...   \n",
       "32533  ACONJ PPERS V PREP ART N CREL APST PPERS V CON...   \n",
       "32534  CONJ ART N CREL PPERS FUT V PPERO PREP PPERO P...   \n",
       "32535  CONJ CFOC PPERS FUT V PPERO NEG PREP PPERO CON...   \n",
       "\n",
       "                                                  arabic  \\\n",
       "0      أما هي فقد بذلت ما في وسعها لتعرقله ولم تقدر عليه   \n",
       "1                                          بعد ذلك تركته   \n",
       "2        ولما ذهب وترهبن صار في توانٍ وقضى حياته في الشر   \n",
       "3      وحدث لما توفت أمه، بعد وقت قليل  أن مرض مرضاً ...   \n",
       "4                     ووجد هناك أمه مع من يقومون بالقضاء   \n",
       "...                                                  ...   \n",
       "32531                                                NaN   \n",
       "32532                                                NaN   \n",
       "32533                                                NaN   \n",
       "32534                                                NaN   \n",
       "32535                                                NaN   \n",
       "\n",
       "                             meta::translation  \\\n",
       "0      Christine Luckritz Marquis, Amir Zeldes   \n",
       "1      Christine Luckritz Marquis, Amir Zeldes   \n",
       "2      Christine Luckritz Marquis, Amir Zeldes   \n",
       "3      Christine Luckritz Marquis, Amir Zeldes   \n",
       "4      Christine Luckritz Marquis, Amir Zeldes   \n",
       "...                                        ...   \n",
       "32531       Caroline T. Schroeder, Amir Zeldes   \n",
       "32532       Caroline T. Schroeder, Amir Zeldes   \n",
       "32533       Caroline T. Schroeder, Amir Zeldes   \n",
       "32534       Caroline T. Schroeder, Amir Zeldes   \n",
       "32535       Caroline T. Schroeder, Amir Zeldes   \n",
       "\n",
       "                                             meta::title  \\\n",
       "0      Apophthegmata Patrum Sahidic 001: Anonymous Na...   \n",
       "1      Apophthegmata Patrum Sahidic 001: Anonymous Na...   \n",
       "2      Apophthegmata Patrum Sahidic 001: Anonymous Na...   \n",
       "3      Apophthegmata Patrum Sahidic 001: Anonymous Na...   \n",
       "4      Apophthegmata Patrum Sahidic 001: Anonymous Na...   \n",
       "...                                                  ...   \n",
       "32531                   God Who Alone Is True BV 119-122   \n",
       "32532                   God Who Alone Is True BV 119-122   \n",
       "32533                   God Who Alone Is True BV 119-122   \n",
       "32534                   God Who Alone Is True BV 119-122   \n",
       "32535                   God Who Alone Is True BV 119-122   \n",
       "\n",
       "                                            unnormalized  \\\n",
       "0                   ⲛⲧⲟⲥⲇⲉⲁⲥϩⲓⲥⲉⲉⲥϣⲱϣⲧⲙⲙⲟϥⲙⲡⲉⲥϣϭⲙϭⲟⲙⲉⲣⲟϥ   \n",
       "1                                       ⲙⲛⲛⲥⲱⲥⲁⲥⲕⲁⲁϥⲉⲃⲟⲗ   \n",
       "2      ⲛⲧⲉⲣⲉϥⲃⲱⲕⲇⲉⲛϥⲣⲙⲟⲛⲁⲭⲟⲥⲁϥϣⲱⲡⲉϩⲛⲟⲩⲁⲙⲉⲗⲓⲁⲁⲩⲱⲁϥϫⲉⲡⲉ...   \n",
       "3      ⲁⲥϣⲱⲡⲉⲇⲉⲛⲧⲉⲣⲉⲧⲉϥⲙⲁⲁⲩⲙⲟⲩⲙⲛⲛⲥⲁⲟⲩⲟⲉⲓϣⲇⲉⲁϥϣⲱⲛⲉϩⲛⲟⲩ...   \n",
       "4                 ⲁⲩⲱⲁϥϭⲓⲛⲉⲛⲧⲉϥⲙⲁⲁⲩⲙⲙⲁⲩⲙⲛⲛⲉⲧⲟⲩⲕⲣⲓⲛⲉⲙⲙⲟⲟⲩ   \n",
       "...                                                  ...   \n",
       "32531  ⲡⲗⲁⲟⲥⲅⲁⲣⲙⲡⲛⲟⲩⲧⲉⲙⲡⲉⲓⲟⲩⲟⲉⲓϣⲡⲓⲥⲣⲁⲏⲗⲉϥⲧⲏϣⲛⲧⲉⲓϩⲉⲉⲩⲁ...   \n",
       "32532  ⲉϣϫⲉⲡⲉⲓϩⲱⲃϭⲉⲁⲣⲉⲥⲕⲉⲁⲛⲙⲡⲣⲱⲙⲉⲛϣⲟⲩϣⲟⲩⲙⲁⲣⲉϥⲣⲡⲙⲉⲉⲩⲉϫ...   \n",
       "32533  ⲛⲥⲉϣⲁϫⲉⲙⲛⲛⲣⲱⲙⲉⲛⲧⲁⲩⲉⲓⲁⲩⲱⲛⲥⲉϥⲓⲡⲉⲩⲣⲟⲟⲩϣϩⲛϩⲱⲃⲛⲓⲙⲙⲛ...   \n",
       "32534   ⲁⲩⲱⲧϩⲉⲉⲧⲓⲛⲁⲧⲟϣⲟⲩⲙⲙⲟⲥⲛϩⲟⲥⲟⲛⲉⲓⲟⲛϩⲉⲩⲛⲁⲁⲁⲥⲛⲟⲩⲟⲉⲓϣⲛⲓⲙ   \n",
       "32535  ⲁⲩⲱⲉⲩⲛⲁϫⲟⲟⲥⲁⲛⲉⲣⲟⲟⲩϫⲉⲉⲣⲉⲡⲟⲩⲁⲡⲟⲩⲁⲛⲁϯⲗⲟⲅⲟⲥϩⲁⲣⲟϥⲙⲡ...   \n",
       "\n",
       "                                          norm_romanized  \\\n",
       "0      ntos deie a s hiauseie eie s shoousht mmo f mp...   \n",
       "1                           mnnsoou s a s kaa f eievol .   \n",
       "2      nteiereie f voouk deie n f rmonakhos a f shoou...   \n",
       "3      a s shooupeie deie nteiereie teief maaua moua ...   \n",
       "4      auaoou a f shiauneie n teief maaua mmaua mn n ...   \n",
       "...                                                  ...   \n",
       "32531  p laos gar m p nouateie m peieiau ouaoeieiaush...   \n",
       "32532  eieshgeie peieiau hoouv sheie areieskeie an m ...   \n",
       "32533  n seie shageie mn n rooumeie nt a ua eieiau au...   \n",
       "32534  auaoou t heie eiet iau na tosh oua mmo s n hos...   \n",
       "32535  auaoou eie ua na goo s an eiero oua geie eiere...   \n",
       "\n",
       "                                    norm_group_romanized  \\\n",
       "0      ntos deie ashiauseie eiesshoousht mmof mpeiess...   \n",
       "1                               mnnsoous askaaf eievol .   \n",
       "2      nteiereiefvoouk deie nfrmonakhos afshooupeie h...   \n",
       "3      asshooupeie deie nteiereieteiefmaaua moua . mn...   \n",
       "4      auaoou afshiauneie nteiefmaaua mmaua mnneietou...   \n",
       "...                                                  ...   \n",
       "32531  plaos far mpnouateie mpeieiauouaoeieiaush piau...   \n",
       "32532  eieshgeie peieiauhoouv sheie areieskeie an mpr...   \n",
       "32533  nseieshageie mnnrooumeie ntauaeieiau auaoou ns...   \n",
       "32534  auaoou theie eietiaunatoshoua mmos nhoson eiei...   \n",
       "32535  auaoou eieuanagoos an eierooua geieeiereiepoua...   \n",
       "\n",
       "                                  unnormalized_romanized  \\\n",
       "0      ntosdeieashiauseieeiesshooushtmmofmpeiesshshms...   \n",
       "1                                   mnnsoousaskaafeievol   \n",
       "2      nteiereiefvooukdeienfrmonakhosafshooupeiehnoua...   \n",
       "3      asshooupeiedeienteiereieteiefmaauamouamnnsaoua...   \n",
       "4      auaoouafshiauneienteiefmaauammauamnneietouakri...   \n",
       "...                                                  ...   \n",
       "32531  plaosgarmpnouateiempeieiauouaoeieiaushpiausrah...   \n",
       "32532  eieshgeiepeieiauhoouvsheieareieskeieanmprooume...   \n",
       "32533  nseieshageiemnnrooumeientauaeieiauauaoounseief...   \n",
       "32534  auaooutheieeietiaunatoshouammosnhosoneieiauonh...   \n",
       "32535  auaooueieuanagoosaneieroouageieeiereiepouaapou...   \n",
       "\n",
       "                                         norm_greekified  \\\n",
       "0      ντοσ δε α σ hισε ε σ sωsτ μμο f μπε σ s cμcομ ...   \n",
       "1                               μννσω σ α σ καα f εβολ .   \n",
       "2      ντερε f βωκ δε ν f ρμοναχοσ α f sωπε hν ου αμε...   \n",
       "3      α σ sωπε δε ντερε τεf μααυ μου . μννσα ουοειs ...   \n",
       "4      αυω α f cινε ν τεf μααυ μμαυ μν ν ετ ου κρινε ...   \n",
       "...                                                  ...   \n",
       "32531  π λαοσ γαρ μ π νουτε μ πει ουοειs π ισραηλ ε f...   \n",
       "32532  εsjε πει hωβ cε αρεσκε αν μ π ρωμε ν sουsου μα...   \n",
       "32533  ν σε sαjε μν ν ρωμε ντ α υ ει αυω ν σε fι πευ ...   \n",
       "32534  αυω τ hε ετ ι να τοs ου μμο σ ν hοσον ε ι ονh ...   \n",
       "32535  αυω ε υ να jοο σ αν ερο ου jε ερε π ουα π ουα ...   \n",
       "\n",
       "                                   norm_group_greekified  \\\n",
       "0             ντοσ δε ασhισε εσsωsτ μμοf μπεσscμcομ εροf   \n",
       "1                                   μννσωσ ασκααf εβολ .   \n",
       "2      ντερεfβωκ δε νfρμοναχοσ αfsωπε hνουαμελια . αυ...   \n",
       "3      ασsωπε δε ντερετεfμααυ μου . μννσαουοειs δε αf...   \n",
       "4          αυω αfcινε ντεfμααυ μμαυ μννετουκρινε μμοου .   \n",
       "...                                                  ...   \n",
       "32531  πλαοσ fαρ μπνουτε μπειουοειs πισραηλ εfτηs ντε...   \n",
       "32532  εsjε πειhωβ cε αρεσκε αν μπρωμε νsουsου μαρεfρ...   \n",
       "32533  νσεsαjε μννρωμε νταυει αυω νσεfιπευροουs hνhωβ...   \n",
       "32534  αυω τhε ετινατοsου μμοσ νhοσον ειονh ευνααασ ν...   \n",
       "32535  αυω ευναjοοσ αν εροου jεερεπουα πουα ναtλογοσ ...   \n",
       "\n",
       "                                 unnormalized_greekified  \n",
       "0                   ντοσδεασhισεεσsωsτμμοfμπεσscμcομεροf  \n",
       "1                                       μννσωσασκααfεβολ  \n",
       "2      ντερεfβωκδενfρμοναχοσαfsωπεhνουαμελιααυωαfjεπε...  \n",
       "3      ασsωπεδεντερετεfμααυμουμννσαουοειsδεαfsωνεhνου...  \n",
       "4                 αυωαfcινεντεfμααυμμαυμννετουκρινεμμοου  \n",
       "...                                                  ...  \n",
       "32531  πλαοσγαρμπνουτεμπειουοειsπισραηλεfτηsντειhεευα...  \n",
       "32532  εsjεπειhωβcεαρεσκεανμπρωμενsουsουμαρεfρπμεευεj...  \n",
       "32533  νσεsαjεμννρωμενταυειαυωνσεfιπευροουshνhωβνιμμν...  \n",
       "32534   αυωτhεετινατοsουμμοσνhοσονειονhευνααασνουοειsνιμ  \n",
       "32535  αυωευναjοοσανεροουjεερεπουαπουαναtλογοσhαροfμπ...  \n",
       "\n",
       "[32536 rows x 15 columns]"
      ]
     },
     "execution_count": 230,
     "metadata": {},
     "output_type": "execute_result"
    }
   ],
   "source": [
    "data = data.drop('level_0', axis=1, errors='ignore')\n",
    "data = data.drop('Unnamed: 0', axis=1, errors='ignore')\n",
    "data = data.drop('Unnamed: 0.1', axis=1, errors='ignore')\n",
    "data = data.rename(columns={\"translation\": \"eng\"})\n",
    "data"
   ]
  },
  {
   "cell_type": "code",
   "execution_count": 231,
   "metadata": {},
   "outputs": [],
   "source": [
    "data.to_csv(\"datasets/third_clean_data.csv\")"
   ]
  },
  {
   "cell_type": "code",
   "execution_count": 232,
   "metadata": {},
   "outputs": [
    {
     "data": {
      "text/plain": [
       "32536"
      ]
     },
     "execution_count": 232,
     "metadata": {},
     "output_type": "execute_result"
    }
   ],
   "source": [
    "data = pd.read_csv(\"datasets/third_clean_data.csv\")\n",
    "len(data)"
   ]
  },
  {
   "cell_type": "code",
   "execution_count": 233,
   "metadata": {},
   "outputs": [
    {
     "name": "stdout",
     "output_type": "stream",
     "text": [
      "80\n",
      "106\n",
      "54\n",
      "15\n"
     ]
    }
   ],
   "source": [
    "test_titles = {\n",
    "    \"42_Luke_1\": \"NT\",\n",
    "    \"Letter of pseudo-Ephrem MERC.AT 126-134\": \"Budge\",\n",
    "    \"09_I Samuel_17\": \"OT\",\n",
    "    \"Acephalous 22: YA 517-518\": \"Amir\"\n",
    "}\n",
    "for test_title, desc in test_titles.items():\n",
    "    test_df = data[data[\"meta::title\"] == test_title]\n",
    "    print(len(test_df))\n",
    "    test_df.to_csv(f\"datasets/test_data/{desc}.csv\")\n"
   ]
  },
  {
   "cell_type": "code",
   "execution_count": 234,
   "metadata": {},
   "outputs": [
    {
     "name": "stdout",
     "output_type": "stream",
     "text": [
      "145\n"
     ]
    }
   ],
   "source": [
    "validation_titles = [\n",
    "    \"05_Deuteronomy_1\",\n",
    "    \"Mark Chapter 1\",\n",
    "    \"Martyrdom of Victor part 8\"\n",
    "]\n",
    "\n",
    "valid_df = data[data[\"meta::title\"].isin(validation_titles)]\n",
    "print(len(valid_df))\n",
    "valid_df.to_csv(\"datasets/validation_data/data.csv\")"
   ]
  },
  {
   "cell_type": "code",
   "execution_count": 235,
   "metadata": {},
   "outputs": [],
   "source": [
    "bad_titles = list(test_titles.keys()) + validation_titles\n",
    "train_df = data[~data[\"meta::title\"].isin(bad_titles)]\n",
    "train_df.to_csv(\"datasets/train_data/data.csv\")"
   ]
  },
  {
   "cell_type": "code",
   "execution_count": 236,
   "metadata": {},
   "outputs": [
    {
     "data": {
      "application/vnd.jupyter.widget-view+json": {
       "model_id": "a7fbf9921472456aa1424cc627b6787f",
       "version_major": 2,
       "version_minor": 0
      },
      "text/plain": [
       "Saving the dataset (0/1 shards):   0%|          | 0/32136 [00:00<?, ? examples/s]"
      ]
     },
     "metadata": {},
     "output_type": "display_data"
    },
    {
     "data": {
      "application/vnd.jupyter.widget-view+json": {
       "model_id": "37b85bb7c2ea4106862fd9ca707f20cc",
       "version_major": 2,
       "version_minor": 0
      },
      "text/plain": [
       "Saving the dataset (0/1 shards):   0%|          | 0/145 [00:00<?, ? examples/s]"
      ]
     },
     "metadata": {},
     "output_type": "display_data"
    }
   ],
   "source": [
    "train_df = pd.read_csv(\"datasets/train_data/data.csv\")\n",
    "valid_df = pd.read_csv(\"datasets/validation_data/data.csv\")\n",
    "\n",
    "train_dataset = datasets.Dataset.from_pandas(train_df)\n",
    "valid_dataset = datasets.Dataset.from_pandas(valid_df)\n",
    "data_dict = datasets.DatasetDict({\"train\": train_dataset, \"validation\": valid_dataset})\n",
    "\n",
    "data_dict.save_to_disk(\"datasets/third-dataset\")"
   ]
  },
  {
   "cell_type": "code",
   "execution_count": null,
   "metadata": {},
   "outputs": [],
   "source": []
  }
 ],
 "metadata": {
  "kernelspec": {
   "display_name": "coptic",
   "language": "python",
   "name": "python3"
  },
  "language_info": {
   "codemirror_mode": {
    "name": "ipython",
    "version": 3
   },
   "file_extension": ".py",
   "mimetype": "text/x-python",
   "name": "python",
   "nbconvert_exporter": "python",
   "pygments_lexer": "ipython3",
   "version": "3.11.0"
  },
  "orig_nbformat": 4
 },
 "nbformat": 4,
 "nbformat_minor": 2
}
